{
  "cells": [
    {
      "cell_type": "markdown",
      "metadata": {
        "id": "OWvDyNp5feDS"
      },
      "source": [
        "# Nobel Prize Insight\n",
        "\n",
        "I got the Nobel Prize Data set from the Kaggle. Here, I have applied different data analysis techniques to get the insight of the data and to plot some interesting plots using matplotlib and seaborn. I have learned some techniques from this course: [Data Analysis with Python: Zero to Pandas](zerotopandas.com).\n",
        "\n"
      ]
    },
    {
      "cell_type": "markdown",
      "metadata": {
        "id": "2yH9QDHAfeDX"
      },
      "source": [
        "## Downloading the Dataset\n",
        "I have Downloaded the Nobel Data Set from which is free source for data and it also offers various courses for data analysis and machine learning."
      ]
    },
    {
      "cell_type": "code",
      "execution_count": null,
      "metadata": {
        "id": "tPR0S5n0feDY"
      },
      "outputs": [],
      "source": [
        "!pip install jovian opendatasets --upgrade --quiet"
      ]
    },
    {
      "cell_type": "markdown",
      "metadata": {
        "id": "cVfgt_t_feDZ"
      },
      "source": [
        "Let's begin by downloading the data, and listing the files within the dataset."
      ]
    },
    {
      "cell_type": "code",
      "execution_count": null,
      "metadata": {
        "id": "Qc8XXYDNfeDZ"
      },
      "outputs": [],
      "source": [
        "import pandas as pd\n",
        "import numpy as np\n",
        "import matplotlib.pyplot as plt\n",
        "import seaborn as sns"
      ]
    },
    {
      "cell_type": "code",
      "execution_count": null,
      "metadata": {
        "id": "ycQIPHz6feDZ"
      },
      "outputs": [],
      "source": [
        "nobel_raw_df=pd.read_csv('nobel.csv')"
      ]
    },
    {
      "cell_type": "markdown",
      "metadata": {
        "id": "XFV4D0-ufeDZ"
      },
      "source": [
        "The dataset has been downloaded and extracted."
      ]
    },
    {
      "cell_type": "code",
      "execution_count": null,
      "metadata": {
        "id": "caT9QqayfeDa",
        "outputId": "a283f776-5002-44cd-84e3-f1bbbabe6425"
      },
      "outputs": [
        {
          "data": {
            "text/html": [
              "<div>\n",
              "<style scoped>\n",
              "    .dataframe tbody tr th:only-of-type {\n",
              "        vertical-align: middle;\n",
              "    }\n",
              "\n",
              "    .dataframe tbody tr th {\n",
              "        vertical-align: top;\n",
              "    }\n",
              "\n",
              "    .dataframe thead th {\n",
              "        text-align: right;\n",
              "    }\n",
              "</style>\n",
              "<table border=\"1\" class=\"dataframe\">\n",
              "  <thead>\n",
              "    <tr style=\"text-align: right;\">\n",
              "      <th></th>\n",
              "      <th>year</th>\n",
              "      <th>category</th>\n",
              "      <th>prize</th>\n",
              "      <th>motivation</th>\n",
              "      <th>prize_share</th>\n",
              "      <th>laureate_id</th>\n",
              "      <th>laureate_type</th>\n",
              "      <th>full_name</th>\n",
              "      <th>birth_date</th>\n",
              "      <th>birth_city</th>\n",
              "      <th>birth_country</th>\n",
              "      <th>sex</th>\n",
              "      <th>organization_name</th>\n",
              "      <th>organization_city</th>\n",
              "      <th>organization_country</th>\n",
              "      <th>death_date</th>\n",
              "      <th>death_city</th>\n",
              "      <th>death_country</th>\n",
              "    </tr>\n",
              "  </thead>\n",
              "  <tbody>\n",
              "    <tr>\n",
              "      <th>0</th>\n",
              "      <td>1901</td>\n",
              "      <td>Chemistry</td>\n",
              "      <td>The Nobel Prize in Chemistry 1901</td>\n",
              "      <td>\"in recognition of the extraordinary services ...</td>\n",
              "      <td>1/1</td>\n",
              "      <td>160</td>\n",
              "      <td>Individual</td>\n",
              "      <td>Jacobus Henricus van 't Hoff</td>\n",
              "      <td>1852-08-30</td>\n",
              "      <td>Rotterdam</td>\n",
              "      <td>Netherlands</td>\n",
              "      <td>Male</td>\n",
              "      <td>Berlin University</td>\n",
              "      <td>Berlin</td>\n",
              "      <td>Germany</td>\n",
              "      <td>1911-03-01</td>\n",
              "      <td>Berlin</td>\n",
              "      <td>Germany</td>\n",
              "    </tr>\n",
              "    <tr>\n",
              "      <th>1</th>\n",
              "      <td>1901</td>\n",
              "      <td>Literature</td>\n",
              "      <td>The Nobel Prize in Literature 1901</td>\n",
              "      <td>\"in special recognition of his poetic composit...</td>\n",
              "      <td>1/1</td>\n",
              "      <td>569</td>\n",
              "      <td>Individual</td>\n",
              "      <td>Sully Prudhomme</td>\n",
              "      <td>1839-03-16</td>\n",
              "      <td>Paris</td>\n",
              "      <td>France</td>\n",
              "      <td>Male</td>\n",
              "      <td>NaN</td>\n",
              "      <td>NaN</td>\n",
              "      <td>NaN</td>\n",
              "      <td>1907-09-07</td>\n",
              "      <td>Châtenay</td>\n",
              "      <td>France</td>\n",
              "    </tr>\n",
              "    <tr>\n",
              "      <th>2</th>\n",
              "      <td>1901</td>\n",
              "      <td>Medicine</td>\n",
              "      <td>The Nobel Prize in Physiology or Medicine 1901</td>\n",
              "      <td>\"for his work on serum therapy, especially its...</td>\n",
              "      <td>1/1</td>\n",
              "      <td>293</td>\n",
              "      <td>Individual</td>\n",
              "      <td>Emil Adolf von Behring</td>\n",
              "      <td>1854-03-15</td>\n",
              "      <td>Hansdorf (Lawice)</td>\n",
              "      <td>Prussia (Poland)</td>\n",
              "      <td>Male</td>\n",
              "      <td>Marburg University</td>\n",
              "      <td>Marburg</td>\n",
              "      <td>Germany</td>\n",
              "      <td>1917-03-31</td>\n",
              "      <td>Marburg</td>\n",
              "      <td>Germany</td>\n",
              "    </tr>\n",
              "    <tr>\n",
              "      <th>3</th>\n",
              "      <td>1901</td>\n",
              "      <td>Peace</td>\n",
              "      <td>The Nobel Peace Prize 1901</td>\n",
              "      <td>NaN</td>\n",
              "      <td>1/2</td>\n",
              "      <td>462</td>\n",
              "      <td>Individual</td>\n",
              "      <td>Jean Henry Dunant</td>\n",
              "      <td>1828-05-08</td>\n",
              "      <td>Geneva</td>\n",
              "      <td>Switzerland</td>\n",
              "      <td>Male</td>\n",
              "      <td>NaN</td>\n",
              "      <td>NaN</td>\n",
              "      <td>NaN</td>\n",
              "      <td>1910-10-30</td>\n",
              "      <td>Heiden</td>\n",
              "      <td>Switzerland</td>\n",
              "    </tr>\n",
              "    <tr>\n",
              "      <th>4</th>\n",
              "      <td>1901</td>\n",
              "      <td>Peace</td>\n",
              "      <td>The Nobel Peace Prize 1901</td>\n",
              "      <td>NaN</td>\n",
              "      <td>1/2</td>\n",
              "      <td>463</td>\n",
              "      <td>Individual</td>\n",
              "      <td>Frédéric Passy</td>\n",
              "      <td>1822-05-20</td>\n",
              "      <td>Paris</td>\n",
              "      <td>France</td>\n",
              "      <td>Male</td>\n",
              "      <td>NaN</td>\n",
              "      <td>NaN</td>\n",
              "      <td>NaN</td>\n",
              "      <td>1912-06-12</td>\n",
              "      <td>Paris</td>\n",
              "      <td>France</td>\n",
              "    </tr>\n",
              "    <tr>\n",
              "      <th>...</th>\n",
              "      <td>...</td>\n",
              "      <td>...</td>\n",
              "      <td>...</td>\n",
              "      <td>...</td>\n",
              "      <td>...</td>\n",
              "      <td>...</td>\n",
              "      <td>...</td>\n",
              "      <td>...</td>\n",
              "      <td>...</td>\n",
              "      <td>...</td>\n",
              "      <td>...</td>\n",
              "      <td>...</td>\n",
              "      <td>...</td>\n",
              "      <td>...</td>\n",
              "      <td>...</td>\n",
              "      <td>...</td>\n",
              "      <td>...</td>\n",
              "      <td>...</td>\n",
              "    </tr>\n",
              "    <tr>\n",
              "      <th>906</th>\n",
              "      <td>2016</td>\n",
              "      <td>Medicine</td>\n",
              "      <td>The Nobel Prize in Physiology or Medicine 2016</td>\n",
              "      <td>\"for his discoveries of mechanisms for autophagy\"</td>\n",
              "      <td>1/1</td>\n",
              "      <td>927</td>\n",
              "      <td>Individual</td>\n",
              "      <td>Yoshinori Ohsumi</td>\n",
              "      <td>1945-02-09</td>\n",
              "      <td>Fukuoka</td>\n",
              "      <td>Japan</td>\n",
              "      <td>Male</td>\n",
              "      <td>Tokyo Institute of Technology</td>\n",
              "      <td>Tokyo</td>\n",
              "      <td>Japan</td>\n",
              "      <td>NaN</td>\n",
              "      <td>NaN</td>\n",
              "      <td>NaN</td>\n",
              "    </tr>\n",
              "    <tr>\n",
              "      <th>907</th>\n",
              "      <td>2016</td>\n",
              "      <td>Peace</td>\n",
              "      <td>The Nobel Peace Prize 2016</td>\n",
              "      <td>\"for his resolute efforts to bring the country...</td>\n",
              "      <td>1/1</td>\n",
              "      <td>934</td>\n",
              "      <td>Individual</td>\n",
              "      <td>Juan Manuel Santos</td>\n",
              "      <td>1951-08-10</td>\n",
              "      <td>Bogotá</td>\n",
              "      <td>Colombia</td>\n",
              "      <td>Male</td>\n",
              "      <td>NaN</td>\n",
              "      <td>NaN</td>\n",
              "      <td>NaN</td>\n",
              "      <td>NaN</td>\n",
              "      <td>NaN</td>\n",
              "      <td>NaN</td>\n",
              "    </tr>\n",
              "    <tr>\n",
              "      <th>908</th>\n",
              "      <td>2016</td>\n",
              "      <td>Physics</td>\n",
              "      <td>The Nobel Prize in Physics 2016</td>\n",
              "      <td>\"for theoretical discoveries of topological ph...</td>\n",
              "      <td>1/2</td>\n",
              "      <td>928</td>\n",
              "      <td>Individual</td>\n",
              "      <td>David J. Thouless</td>\n",
              "      <td>1934-09-21</td>\n",
              "      <td>Bearsden</td>\n",
              "      <td>United Kingdom</td>\n",
              "      <td>Male</td>\n",
              "      <td>University of Washington</td>\n",
              "      <td>Seattle, WA</td>\n",
              "      <td>United States of America</td>\n",
              "      <td>NaN</td>\n",
              "      <td>NaN</td>\n",
              "      <td>NaN</td>\n",
              "    </tr>\n",
              "    <tr>\n",
              "      <th>909</th>\n",
              "      <td>2016</td>\n",
              "      <td>Physics</td>\n",
              "      <td>The Nobel Prize in Physics 2016</td>\n",
              "      <td>\"for theoretical discoveries of topological ph...</td>\n",
              "      <td>1/4</td>\n",
              "      <td>929</td>\n",
              "      <td>Individual</td>\n",
              "      <td>F. Duncan M. Haldane</td>\n",
              "      <td>1951-09-14</td>\n",
              "      <td>London</td>\n",
              "      <td>United Kingdom</td>\n",
              "      <td>Male</td>\n",
              "      <td>Princeton University</td>\n",
              "      <td>Princeton, NJ</td>\n",
              "      <td>United States of America</td>\n",
              "      <td>NaN</td>\n",
              "      <td>NaN</td>\n",
              "      <td>NaN</td>\n",
              "    </tr>\n",
              "    <tr>\n",
              "      <th>910</th>\n",
              "      <td>2016</td>\n",
              "      <td>Physics</td>\n",
              "      <td>The Nobel Prize in Physics 2016</td>\n",
              "      <td>\"for theoretical discoveries of topological ph...</td>\n",
              "      <td>1/4</td>\n",
              "      <td>930</td>\n",
              "      <td>Individual</td>\n",
              "      <td>J. Michael Kosterlitz</td>\n",
              "      <td>1943-06-22</td>\n",
              "      <td>Aberdeen</td>\n",
              "      <td>United Kingdom</td>\n",
              "      <td>Male</td>\n",
              "      <td>Brown University</td>\n",
              "      <td>Providence, RI</td>\n",
              "      <td>United States of America</td>\n",
              "      <td>NaN</td>\n",
              "      <td>NaN</td>\n",
              "      <td>NaN</td>\n",
              "    </tr>\n",
              "  </tbody>\n",
              "</table>\n",
              "<p>911 rows × 18 columns</p>\n",
              "</div>"
            ],
            "text/plain": [
              "     year    category                                           prize  \\\n",
              "0    1901   Chemistry               The Nobel Prize in Chemistry 1901   \n",
              "1    1901  Literature              The Nobel Prize in Literature 1901   \n",
              "2    1901    Medicine  The Nobel Prize in Physiology or Medicine 1901   \n",
              "3    1901       Peace                      The Nobel Peace Prize 1901   \n",
              "4    1901       Peace                      The Nobel Peace Prize 1901   \n",
              "..    ...         ...                                             ...   \n",
              "906  2016    Medicine  The Nobel Prize in Physiology or Medicine 2016   \n",
              "907  2016       Peace                      The Nobel Peace Prize 2016   \n",
              "908  2016     Physics                 The Nobel Prize in Physics 2016   \n",
              "909  2016     Physics                 The Nobel Prize in Physics 2016   \n",
              "910  2016     Physics                 The Nobel Prize in Physics 2016   \n",
              "\n",
              "                                            motivation prize_share  \\\n",
              "0    \"in recognition of the extraordinary services ...         1/1   \n",
              "1    \"in special recognition of his poetic composit...         1/1   \n",
              "2    \"for his work on serum therapy, especially its...         1/1   \n",
              "3                                                  NaN         1/2   \n",
              "4                                                  NaN         1/2   \n",
              "..                                                 ...         ...   \n",
              "906  \"for his discoveries of mechanisms for autophagy\"         1/1   \n",
              "907  \"for his resolute efforts to bring the country...         1/1   \n",
              "908  \"for theoretical discoveries of topological ph...         1/2   \n",
              "909  \"for theoretical discoveries of topological ph...         1/4   \n",
              "910  \"for theoretical discoveries of topological ph...         1/4   \n",
              "\n",
              "     laureate_id laureate_type                     full_name  birth_date  \\\n",
              "0            160    Individual  Jacobus Henricus van 't Hoff  1852-08-30   \n",
              "1            569    Individual               Sully Prudhomme  1839-03-16   \n",
              "2            293    Individual        Emil Adolf von Behring  1854-03-15   \n",
              "3            462    Individual             Jean Henry Dunant  1828-05-08   \n",
              "4            463    Individual                Frédéric Passy  1822-05-20   \n",
              "..           ...           ...                           ...         ...   \n",
              "906          927    Individual              Yoshinori Ohsumi  1945-02-09   \n",
              "907          934    Individual            Juan Manuel Santos  1951-08-10   \n",
              "908          928    Individual             David J. Thouless  1934-09-21   \n",
              "909          929    Individual          F. Duncan M. Haldane  1951-09-14   \n",
              "910          930    Individual         J. Michael Kosterlitz  1943-06-22   \n",
              "\n",
              "            birth_city     birth_country   sex              organization_name  \\\n",
              "0            Rotterdam       Netherlands  Male              Berlin University   \n",
              "1                Paris            France  Male                            NaN   \n",
              "2    Hansdorf (Lawice)  Prussia (Poland)  Male             Marburg University   \n",
              "3               Geneva       Switzerland  Male                            NaN   \n",
              "4                Paris            France  Male                            NaN   \n",
              "..                 ...               ...   ...                            ...   \n",
              "906            Fukuoka             Japan  Male  Tokyo Institute of Technology   \n",
              "907             Bogotá          Colombia  Male                            NaN   \n",
              "908           Bearsden    United Kingdom  Male       University of Washington   \n",
              "909             London    United Kingdom  Male           Princeton University   \n",
              "910           Aberdeen    United Kingdom  Male               Brown University   \n",
              "\n",
              "    organization_city      organization_country  death_date death_city  \\\n",
              "0              Berlin                   Germany  1911-03-01     Berlin   \n",
              "1                 NaN                       NaN  1907-09-07   Châtenay   \n",
              "2             Marburg                   Germany  1917-03-31    Marburg   \n",
              "3                 NaN                       NaN  1910-10-30     Heiden   \n",
              "4                 NaN                       NaN  1912-06-12      Paris   \n",
              "..                ...                       ...         ...        ...   \n",
              "906             Tokyo                     Japan         NaN        NaN   \n",
              "907               NaN                       NaN         NaN        NaN   \n",
              "908       Seattle, WA  United States of America         NaN        NaN   \n",
              "909     Princeton, NJ  United States of America         NaN        NaN   \n",
              "910    Providence, RI  United States of America         NaN        NaN   \n",
              "\n",
              "    death_country  \n",
              "0         Germany  \n",
              "1          France  \n",
              "2         Germany  \n",
              "3     Switzerland  \n",
              "4          France  \n",
              "..            ...  \n",
              "906           NaN  \n",
              "907           NaN  \n",
              "908           NaN  \n",
              "909           NaN  \n",
              "910           NaN  \n",
              "\n",
              "[911 rows x 18 columns]"
            ]
          },
          "execution_count": 168,
          "metadata": {},
          "output_type": "execute_result"
        }
      ],
      "source": [
        "nobel_raw_df"
      ]
    },
    {
      "cell_type": "code",
      "execution_count": null,
      "metadata": {
        "id": "zlNxJlevfeDa",
        "outputId": "b9dd872e-879e-4aab-d34f-2c036988ac9b"
      },
      "outputs": [
        {
          "data": {
            "text/plain": [
              "(911, 18)"
            ]
          },
          "execution_count": 169,
          "metadata": {},
          "output_type": "execute_result"
        }
      ],
      "source": [
        "nobel_raw_df.shape"
      ]
    },
    {
      "cell_type": "markdown",
      "metadata": {
        "id": "XS_H9kgWfeDb"
      },
      "source": [
        "Let us save and upload our work to Jovian before continuing."
      ]
    },
    {
      "cell_type": "code",
      "execution_count": null,
      "metadata": {
        "id": "0YqL14tUfeDb",
        "outputId": "4260931c-8170-483c-dc1e-07ba212d3185"
      },
      "outputs": [
        {
          "name": "stdout",
          "output_type": "stream",
          "text": [
            "<class 'pandas.core.frame.DataFrame'>\n",
            "RangeIndex: 911 entries, 0 to 910\n",
            "Data columns (total 18 columns):\n",
            " #   Column                Non-Null Count  Dtype \n",
            "---  ------                --------------  ----- \n",
            " 0   year                  911 non-null    int64 \n",
            " 1   category              911 non-null    object\n",
            " 2   prize                 911 non-null    object\n",
            " 3   motivation            823 non-null    object\n",
            " 4   prize_share           911 non-null    object\n",
            " 5   laureate_id           911 non-null    int64 \n",
            " 6   laureate_type         911 non-null    object\n",
            " 7   full_name             911 non-null    object\n",
            " 8   birth_date            883 non-null    object\n",
            " 9   birth_city            883 non-null    object\n",
            " 10  birth_country         885 non-null    object\n",
            " 11  sex                   885 non-null    object\n",
            " 12  organization_name     665 non-null    object\n",
            " 13  organization_city     667 non-null    object\n",
            " 14  organization_country  667 non-null    object\n",
            " 15  death_date            593 non-null    object\n",
            " 16  death_city            576 non-null    object\n",
            " 17  death_country         582 non-null    object\n",
            "dtypes: int64(2), object(16)\n",
            "memory usage: 128.2+ KB\n"
          ]
        }
      ],
      "source": [
        "nobel_raw_df.info()"
      ]
    },
    {
      "cell_type": "code",
      "execution_count": null,
      "metadata": {
        "id": "xW1XuLb9feDb",
        "outputId": "5d9b39ad-b3d5-46a6-8c65-06bfac500f07"
      },
      "outputs": [
        {
          "data": {
            "text/html": [
              "<div>\n",
              "<style scoped>\n",
              "    .dataframe tbody tr th:only-of-type {\n",
              "        vertical-align: middle;\n",
              "    }\n",
              "\n",
              "    .dataframe tbody tr th {\n",
              "        vertical-align: top;\n",
              "    }\n",
              "\n",
              "    .dataframe thead th {\n",
              "        text-align: right;\n",
              "    }\n",
              "</style>\n",
              "<table border=\"1\" class=\"dataframe\">\n",
              "  <thead>\n",
              "    <tr style=\"text-align: right;\">\n",
              "      <th></th>\n",
              "      <th>year</th>\n",
              "      <th>category</th>\n",
              "      <th>prize</th>\n",
              "      <th>motivation</th>\n",
              "      <th>prize_share</th>\n",
              "      <th>laureate_id</th>\n",
              "      <th>laureate_type</th>\n",
              "      <th>full_name</th>\n",
              "      <th>birth_date</th>\n",
              "      <th>birth_city</th>\n",
              "      <th>birth_country</th>\n",
              "      <th>sex</th>\n",
              "      <th>organization_name</th>\n",
              "      <th>organization_city</th>\n",
              "      <th>organization_country</th>\n",
              "      <th>death_date</th>\n",
              "      <th>death_city</th>\n",
              "      <th>death_country</th>\n",
              "    </tr>\n",
              "  </thead>\n",
              "  <tbody>\n",
              "    <tr>\n",
              "      <th>0</th>\n",
              "      <td>1901</td>\n",
              "      <td>Chemistry</td>\n",
              "      <td>The Nobel Prize in Chemistry 1901</td>\n",
              "      <td>\"in recognition of the extraordinary services ...</td>\n",
              "      <td>1/1</td>\n",
              "      <td>160</td>\n",
              "      <td>Individual</td>\n",
              "      <td>Jacobus Henricus van 't Hoff</td>\n",
              "      <td>1852-08-30</td>\n",
              "      <td>Rotterdam</td>\n",
              "      <td>Netherlands</td>\n",
              "      <td>Male</td>\n",
              "      <td>Berlin University</td>\n",
              "      <td>Berlin</td>\n",
              "      <td>Germany</td>\n",
              "      <td>1911-03-01</td>\n",
              "      <td>Berlin</td>\n",
              "      <td>Germany</td>\n",
              "    </tr>\n",
              "    <tr>\n",
              "      <th>1</th>\n",
              "      <td>1901</td>\n",
              "      <td>Literature</td>\n",
              "      <td>The Nobel Prize in Literature 1901</td>\n",
              "      <td>\"in special recognition of his poetic composit...</td>\n",
              "      <td>1/1</td>\n",
              "      <td>569</td>\n",
              "      <td>Individual</td>\n",
              "      <td>Sully Prudhomme</td>\n",
              "      <td>1839-03-16</td>\n",
              "      <td>Paris</td>\n",
              "      <td>France</td>\n",
              "      <td>Male</td>\n",
              "      <td>NaN</td>\n",
              "      <td>NaN</td>\n",
              "      <td>NaN</td>\n",
              "      <td>1907-09-07</td>\n",
              "      <td>Châtenay</td>\n",
              "      <td>France</td>\n",
              "    </tr>\n",
              "    <tr>\n",
              "      <th>2</th>\n",
              "      <td>1901</td>\n",
              "      <td>Medicine</td>\n",
              "      <td>The Nobel Prize in Physiology or Medicine 1901</td>\n",
              "      <td>\"for his work on serum therapy, especially its...</td>\n",
              "      <td>1/1</td>\n",
              "      <td>293</td>\n",
              "      <td>Individual</td>\n",
              "      <td>Emil Adolf von Behring</td>\n",
              "      <td>1854-03-15</td>\n",
              "      <td>Hansdorf (Lawice)</td>\n",
              "      <td>Prussia (Poland)</td>\n",
              "      <td>Male</td>\n",
              "      <td>Marburg University</td>\n",
              "      <td>Marburg</td>\n",
              "      <td>Germany</td>\n",
              "      <td>1917-03-31</td>\n",
              "      <td>Marburg</td>\n",
              "      <td>Germany</td>\n",
              "    </tr>\n",
              "    <tr>\n",
              "      <th>3</th>\n",
              "      <td>1901</td>\n",
              "      <td>Peace</td>\n",
              "      <td>The Nobel Peace Prize 1901</td>\n",
              "      <td>NaN</td>\n",
              "      <td>1/2</td>\n",
              "      <td>462</td>\n",
              "      <td>Individual</td>\n",
              "      <td>Jean Henry Dunant</td>\n",
              "      <td>1828-05-08</td>\n",
              "      <td>Geneva</td>\n",
              "      <td>Switzerland</td>\n",
              "      <td>Male</td>\n",
              "      <td>NaN</td>\n",
              "      <td>NaN</td>\n",
              "      <td>NaN</td>\n",
              "      <td>1910-10-30</td>\n",
              "      <td>Heiden</td>\n",
              "      <td>Switzerland</td>\n",
              "    </tr>\n",
              "    <tr>\n",
              "      <th>4</th>\n",
              "      <td>1901</td>\n",
              "      <td>Peace</td>\n",
              "      <td>The Nobel Peace Prize 1901</td>\n",
              "      <td>NaN</td>\n",
              "      <td>1/2</td>\n",
              "      <td>463</td>\n",
              "      <td>Individual</td>\n",
              "      <td>Frédéric Passy</td>\n",
              "      <td>1822-05-20</td>\n",
              "      <td>Paris</td>\n",
              "      <td>France</td>\n",
              "      <td>Male</td>\n",
              "      <td>NaN</td>\n",
              "      <td>NaN</td>\n",
              "      <td>NaN</td>\n",
              "      <td>1912-06-12</td>\n",
              "      <td>Paris</td>\n",
              "      <td>France</td>\n",
              "    </tr>\n",
              "    <tr>\n",
              "      <th>5</th>\n",
              "      <td>1901</td>\n",
              "      <td>Physics</td>\n",
              "      <td>The Nobel Prize in Physics 1901</td>\n",
              "      <td>\"in recognition of the extraordinary services ...</td>\n",
              "      <td>1/1</td>\n",
              "      <td>1</td>\n",
              "      <td>Individual</td>\n",
              "      <td>Wilhelm Conrad Röntgen</td>\n",
              "      <td>1845-03-27</td>\n",
              "      <td>Lennep (Remscheid)</td>\n",
              "      <td>Prussia (Germany)</td>\n",
              "      <td>Male</td>\n",
              "      <td>Munich University</td>\n",
              "      <td>Munich</td>\n",
              "      <td>Germany</td>\n",
              "      <td>1923-02-10</td>\n",
              "      <td>Munich</td>\n",
              "      <td>Germany</td>\n",
              "    </tr>\n",
              "    <tr>\n",
              "      <th>6</th>\n",
              "      <td>1902</td>\n",
              "      <td>Chemistry</td>\n",
              "      <td>The Nobel Prize in Chemistry 1902</td>\n",
              "      <td>\"in recognition of the extraordinary services ...</td>\n",
              "      <td>1/1</td>\n",
              "      <td>161</td>\n",
              "      <td>Individual</td>\n",
              "      <td>Hermann Emil Fischer</td>\n",
              "      <td>1852-10-09</td>\n",
              "      <td>Euskirchen</td>\n",
              "      <td>Prussia (Germany)</td>\n",
              "      <td>Male</td>\n",
              "      <td>Berlin University</td>\n",
              "      <td>Berlin</td>\n",
              "      <td>Germany</td>\n",
              "      <td>1919-07-15</td>\n",
              "      <td>Berlin</td>\n",
              "      <td>Germany</td>\n",
              "    </tr>\n",
              "    <tr>\n",
              "      <th>7</th>\n",
              "      <td>1902</td>\n",
              "      <td>Literature</td>\n",
              "      <td>The Nobel Prize in Literature 1902</td>\n",
              "      <td>\"the greatest living master of the art of hist...</td>\n",
              "      <td>1/1</td>\n",
              "      <td>571</td>\n",
              "      <td>Individual</td>\n",
              "      <td>Christian Matthias Theodor Mommsen</td>\n",
              "      <td>1817-11-30</td>\n",
              "      <td>Garding</td>\n",
              "      <td>Schleswig (Germany)</td>\n",
              "      <td>Male</td>\n",
              "      <td>NaN</td>\n",
              "      <td>NaN</td>\n",
              "      <td>NaN</td>\n",
              "      <td>1903-11-01</td>\n",
              "      <td>Charlottenburg</td>\n",
              "      <td>Germany</td>\n",
              "    </tr>\n",
              "    <tr>\n",
              "      <th>8</th>\n",
              "      <td>1902</td>\n",
              "      <td>Medicine</td>\n",
              "      <td>The Nobel Prize in Physiology or Medicine 1902</td>\n",
              "      <td>\"for his work on malaria, by which he has show...</td>\n",
              "      <td>1/1</td>\n",
              "      <td>294</td>\n",
              "      <td>Individual</td>\n",
              "      <td>Ronald Ross</td>\n",
              "      <td>1857-05-13</td>\n",
              "      <td>Almora</td>\n",
              "      <td>India</td>\n",
              "      <td>Male</td>\n",
              "      <td>University College</td>\n",
              "      <td>Liverpool</td>\n",
              "      <td>United Kingdom</td>\n",
              "      <td>1932-09-16</td>\n",
              "      <td>Putney Heath</td>\n",
              "      <td>United Kingdom</td>\n",
              "    </tr>\n",
              "    <tr>\n",
              "      <th>9</th>\n",
              "      <td>1902</td>\n",
              "      <td>Peace</td>\n",
              "      <td>The Nobel Peace Prize 1902</td>\n",
              "      <td>NaN</td>\n",
              "      <td>1/2</td>\n",
              "      <td>464</td>\n",
              "      <td>Individual</td>\n",
              "      <td>Élie Ducommun</td>\n",
              "      <td>1833-02-19</td>\n",
              "      <td>Geneva</td>\n",
              "      <td>Switzerland</td>\n",
              "      <td>Male</td>\n",
              "      <td>NaN</td>\n",
              "      <td>NaN</td>\n",
              "      <td>NaN</td>\n",
              "      <td>1906-12-07</td>\n",
              "      <td>Bern</td>\n",
              "      <td>Switzerland</td>\n",
              "    </tr>\n",
              "  </tbody>\n",
              "</table>\n",
              "</div>"
            ],
            "text/plain": [
              "   year    category                                           prize  \\\n",
              "0  1901   Chemistry               The Nobel Prize in Chemistry 1901   \n",
              "1  1901  Literature              The Nobel Prize in Literature 1901   \n",
              "2  1901    Medicine  The Nobel Prize in Physiology or Medicine 1901   \n",
              "3  1901       Peace                      The Nobel Peace Prize 1901   \n",
              "4  1901       Peace                      The Nobel Peace Prize 1901   \n",
              "5  1901     Physics                 The Nobel Prize in Physics 1901   \n",
              "6  1902   Chemistry               The Nobel Prize in Chemistry 1902   \n",
              "7  1902  Literature              The Nobel Prize in Literature 1902   \n",
              "8  1902    Medicine  The Nobel Prize in Physiology or Medicine 1902   \n",
              "9  1902       Peace                      The Nobel Peace Prize 1902   \n",
              "\n",
              "                                          motivation prize_share  laureate_id  \\\n",
              "0  \"in recognition of the extraordinary services ...         1/1          160   \n",
              "1  \"in special recognition of his poetic composit...         1/1          569   \n",
              "2  \"for his work on serum therapy, especially its...         1/1          293   \n",
              "3                                                NaN         1/2          462   \n",
              "4                                                NaN         1/2          463   \n",
              "5  \"in recognition of the extraordinary services ...         1/1            1   \n",
              "6  \"in recognition of the extraordinary services ...         1/1          161   \n",
              "7  \"the greatest living master of the art of hist...         1/1          571   \n",
              "8  \"for his work on malaria, by which he has show...         1/1          294   \n",
              "9                                                NaN         1/2          464   \n",
              "\n",
              "  laureate_type                           full_name  birth_date  \\\n",
              "0    Individual        Jacobus Henricus van 't Hoff  1852-08-30   \n",
              "1    Individual                     Sully Prudhomme  1839-03-16   \n",
              "2    Individual              Emil Adolf von Behring  1854-03-15   \n",
              "3    Individual                   Jean Henry Dunant  1828-05-08   \n",
              "4    Individual                      Frédéric Passy  1822-05-20   \n",
              "5    Individual              Wilhelm Conrad Röntgen  1845-03-27   \n",
              "6    Individual                Hermann Emil Fischer  1852-10-09   \n",
              "7    Individual  Christian Matthias Theodor Mommsen  1817-11-30   \n",
              "8    Individual                         Ronald Ross  1857-05-13   \n",
              "9    Individual                       Élie Ducommun  1833-02-19   \n",
              "\n",
              "           birth_city        birth_country   sex   organization_name  \\\n",
              "0           Rotterdam          Netherlands  Male   Berlin University   \n",
              "1               Paris               France  Male                 NaN   \n",
              "2   Hansdorf (Lawice)     Prussia (Poland)  Male  Marburg University   \n",
              "3              Geneva          Switzerland  Male                 NaN   \n",
              "4               Paris               France  Male                 NaN   \n",
              "5  Lennep (Remscheid)    Prussia (Germany)  Male   Munich University   \n",
              "6          Euskirchen    Prussia (Germany)  Male   Berlin University   \n",
              "7             Garding  Schleswig (Germany)  Male                 NaN   \n",
              "8              Almora                India  Male  University College   \n",
              "9              Geneva          Switzerland  Male                 NaN   \n",
              "\n",
              "  organization_city organization_country  death_date      death_city  \\\n",
              "0            Berlin              Germany  1911-03-01          Berlin   \n",
              "1               NaN                  NaN  1907-09-07        Châtenay   \n",
              "2           Marburg              Germany  1917-03-31         Marburg   \n",
              "3               NaN                  NaN  1910-10-30          Heiden   \n",
              "4               NaN                  NaN  1912-06-12           Paris   \n",
              "5            Munich              Germany  1923-02-10          Munich   \n",
              "6            Berlin              Germany  1919-07-15          Berlin   \n",
              "7               NaN                  NaN  1903-11-01  Charlottenburg   \n",
              "8         Liverpool       United Kingdom  1932-09-16    Putney Heath   \n",
              "9               NaN                  NaN  1906-12-07            Bern   \n",
              "\n",
              "    death_country  \n",
              "0         Germany  \n",
              "1          France  \n",
              "2         Germany  \n",
              "3     Switzerland  \n",
              "4          France  \n",
              "5         Germany  \n",
              "6         Germany  \n",
              "7         Germany  \n",
              "8  United Kingdom  \n",
              "9     Switzerland  "
            ]
          },
          "execution_count": 171,
          "metadata": {},
          "output_type": "execute_result"
        }
      ],
      "source": [
        "nobel_raw_df.head(10)"
      ]
    },
    {
      "cell_type": "code",
      "execution_count": null,
      "metadata": {
        "id": "fOuOUtVsfeDb",
        "outputId": "368a7bb9-d3ad-48bc-8775-fd6f359d6950"
      },
      "outputs": [
        {
          "data": {
            "text/html": [
              "<div>\n",
              "<style scoped>\n",
              "    .dataframe tbody tr th:only-of-type {\n",
              "        vertical-align: middle;\n",
              "    }\n",
              "\n",
              "    .dataframe tbody tr th {\n",
              "        vertical-align: top;\n",
              "    }\n",
              "\n",
              "    .dataframe thead th {\n",
              "        text-align: right;\n",
              "    }\n",
              "</style>\n",
              "<table border=\"1\" class=\"dataframe\">\n",
              "  <thead>\n",
              "    <tr style=\"text-align: right;\">\n",
              "      <th></th>\n",
              "      <th>year</th>\n",
              "      <th>category</th>\n",
              "      <th>prize</th>\n",
              "      <th>motivation</th>\n",
              "      <th>prize_share</th>\n",
              "      <th>laureate_id</th>\n",
              "      <th>laureate_type</th>\n",
              "      <th>full_name</th>\n",
              "      <th>birth_date</th>\n",
              "      <th>birth_city</th>\n",
              "      <th>birth_country</th>\n",
              "      <th>sex</th>\n",
              "      <th>organization_name</th>\n",
              "      <th>organization_city</th>\n",
              "      <th>organization_country</th>\n",
              "      <th>death_date</th>\n",
              "      <th>death_city</th>\n",
              "      <th>death_country</th>\n",
              "    </tr>\n",
              "  </thead>\n",
              "  <tbody>\n",
              "    <tr>\n",
              "      <th>369</th>\n",
              "      <td>1965</td>\n",
              "      <td>Physics</td>\n",
              "      <td>The Nobel Prize in Physics 1965</td>\n",
              "      <td>\"for their fundamental work in quantum electro...</td>\n",
              "      <td>1/3</td>\n",
              "      <td>86</td>\n",
              "      <td>Individual</td>\n",
              "      <td>Richard P. Feynman</td>\n",
              "      <td>1918-05-11</td>\n",
              "      <td>New York, NY</td>\n",
              "      <td>United States of America</td>\n",
              "      <td>Male</td>\n",
              "      <td>California Institute of Technology (Caltech)</td>\n",
              "      <td>Pasadena, CA</td>\n",
              "      <td>United States of America</td>\n",
              "      <td>1988-02-15</td>\n",
              "      <td>Los Angeles, CA</td>\n",
              "      <td>United States of America</td>\n",
              "    </tr>\n",
              "    <tr>\n",
              "      <th>72</th>\n",
              "      <td>1912</td>\n",
              "      <td>Peace</td>\n",
              "      <td>The Nobel Peace Prize 1912</td>\n",
              "      <td>NaN</td>\n",
              "      <td>1/1</td>\n",
              "      <td>480</td>\n",
              "      <td>Individual</td>\n",
              "      <td>Elihu Root</td>\n",
              "      <td>1845-02-15</td>\n",
              "      <td>Clinton, NY</td>\n",
              "      <td>United States of America</td>\n",
              "      <td>Male</td>\n",
              "      <td>NaN</td>\n",
              "      <td>NaN</td>\n",
              "      <td>NaN</td>\n",
              "      <td>1937-02-07</td>\n",
              "      <td>New York, NY</td>\n",
              "      <td>United States of America</td>\n",
              "    </tr>\n",
              "    <tr>\n",
              "      <th>850</th>\n",
              "      <td>2011</td>\n",
              "      <td>Physics</td>\n",
              "      <td>The Nobel Prize in Physics 2011</td>\n",
              "      <td>\"for the discovery of the accelerating expansi...</td>\n",
              "      <td>1/2</td>\n",
              "      <td>864</td>\n",
              "      <td>Individual</td>\n",
              "      <td>Saul Perlmutter</td>\n",
              "      <td>NaN</td>\n",
              "      <td>Champaign-Urbana, IL</td>\n",
              "      <td>United States of America</td>\n",
              "      <td>Male</td>\n",
              "      <td>Lawrence Berkeley National Laboratory</td>\n",
              "      <td>Berkeley, CA</td>\n",
              "      <td>United States of America</td>\n",
              "      <td>NaN</td>\n",
              "      <td>NaN</td>\n",
              "      <td>NaN</td>\n",
              "    </tr>\n",
              "    <tr>\n",
              "      <th>406</th>\n",
              "      <td>1970</td>\n",
              "      <td>Medicine</td>\n",
              "      <td>The Nobel Prize in Physiology or Medicine 1970</td>\n",
              "      <td>\"for their discoveries concerning the humoral ...</td>\n",
              "      <td>1/3</td>\n",
              "      <td>396</td>\n",
              "      <td>Individual</td>\n",
              "      <td>Julius Axelrod</td>\n",
              "      <td>1912-05-30</td>\n",
              "      <td>New York, NY</td>\n",
              "      <td>United States of America</td>\n",
              "      <td>Male</td>\n",
              "      <td>National Institutes of Health</td>\n",
              "      <td>Bethesda, MD</td>\n",
              "      <td>United States of America</td>\n",
              "      <td>2004-12-29</td>\n",
              "      <td>Rockville, MD</td>\n",
              "      <td>United States of America</td>\n",
              "    </tr>\n",
              "    <tr>\n",
              "      <th>821</th>\n",
              "      <td>2009</td>\n",
              "      <td>Literature</td>\n",
              "      <td>The Nobel Prize in Literature 2009</td>\n",
              "      <td>\"who, with the concentration of poetry and the...</td>\n",
              "      <td>1/1</td>\n",
              "      <td>844</td>\n",
              "      <td>Individual</td>\n",
              "      <td>Herta Müller</td>\n",
              "      <td>1953-08-17</td>\n",
              "      <td>Nitzkydorf, Banat</td>\n",
              "      <td>Romania</td>\n",
              "      <td>Female</td>\n",
              "      <td>NaN</td>\n",
              "      <td>NaN</td>\n",
              "      <td>NaN</td>\n",
              "      <td>NaN</td>\n",
              "      <td>NaN</td>\n",
              "      <td>NaN</td>\n",
              "    </tr>\n",
              "    <tr>\n",
              "      <th>814</th>\n",
              "      <td>2008</td>\n",
              "      <td>Physics</td>\n",
              "      <td>The Nobel Prize in Physics 2008</td>\n",
              "      <td>\"for the discovery of the origin of the broken...</td>\n",
              "      <td>1/4</td>\n",
              "      <td>827</td>\n",
              "      <td>Individual</td>\n",
              "      <td>Makoto Kobayashi</td>\n",
              "      <td>1944-04-07</td>\n",
              "      <td>Nagoya</td>\n",
              "      <td>Japan</td>\n",
              "      <td>Male</td>\n",
              "      <td>High Energy Accelerator Research Organization ...</td>\n",
              "      <td>Tsukuba</td>\n",
              "      <td>Japan</td>\n",
              "      <td>NaN</td>\n",
              "      <td>NaN</td>\n",
              "      <td>NaN</td>\n",
              "    </tr>\n",
              "    <tr>\n",
              "      <th>109</th>\n",
              "      <td>1922</td>\n",
              "      <td>Medicine</td>\n",
              "      <td>The Nobel Prize in Physiology or Medicine 1922</td>\n",
              "      <td>\"for his discovery relating to the production ...</td>\n",
              "      <td>1/2</td>\n",
              "      <td>311</td>\n",
              "      <td>Individual</td>\n",
              "      <td>Archibald Vivian Hill</td>\n",
              "      <td>1886-09-26</td>\n",
              "      <td>Bristol</td>\n",
              "      <td>United Kingdom</td>\n",
              "      <td>Male</td>\n",
              "      <td>London University</td>\n",
              "      <td>London</td>\n",
              "      <td>United Kingdom</td>\n",
              "      <td>1977-06-03</td>\n",
              "      <td>Cambridge</td>\n",
              "      <td>United Kingdom</td>\n",
              "    </tr>\n",
              "    <tr>\n",
              "      <th>888</th>\n",
              "      <td>2014</td>\n",
              "      <td>Physics</td>\n",
              "      <td>The Nobel Prize in Physics 2014</td>\n",
              "      <td>\"for the invention of efficient blue light-emi...</td>\n",
              "      <td>1/3</td>\n",
              "      <td>908</td>\n",
              "      <td>Individual</td>\n",
              "      <td>Shuji Nakamura</td>\n",
              "      <td>1954-05-22</td>\n",
              "      <td>Ikata</td>\n",
              "      <td>Japan</td>\n",
              "      <td>Male</td>\n",
              "      <td>University of California</td>\n",
              "      <td>Santa Barbara, CA</td>\n",
              "      <td>United States of America</td>\n",
              "      <td>NaN</td>\n",
              "      <td>NaN</td>\n",
              "      <td>NaN</td>\n",
              "    </tr>\n",
              "    <tr>\n",
              "      <th>698</th>\n",
              "      <td>1998</td>\n",
              "      <td>Physics</td>\n",
              "      <td>The Nobel Prize in Physics 1998</td>\n",
              "      <td>\"for their discovery of a new form of quantum ...</td>\n",
              "      <td>1/3</td>\n",
              "      <td>157</td>\n",
              "      <td>Individual</td>\n",
              "      <td>Daniel C. Tsui</td>\n",
              "      <td>1939-02-28</td>\n",
              "      <td>Henan</td>\n",
              "      <td>China</td>\n",
              "      <td>Male</td>\n",
              "      <td>Princeton University</td>\n",
              "      <td>Princeton, NJ</td>\n",
              "      <td>United States of America</td>\n",
              "      <td>NaN</td>\n",
              "      <td>NaN</td>\n",
              "      <td>NaN</td>\n",
              "    </tr>\n",
              "    <tr>\n",
              "      <th>805</th>\n",
              "      <td>2008</td>\n",
              "      <td>Chemistry</td>\n",
              "      <td>The Nobel Prize in Chemistry 2008</td>\n",
              "      <td>\"for the discovery and development of the gree...</td>\n",
              "      <td>1/3</td>\n",
              "      <td>830</td>\n",
              "      <td>Individual</td>\n",
              "      <td>Martin Chalfie</td>\n",
              "      <td>1947-01-15</td>\n",
              "      <td>Chicago, IL</td>\n",
              "      <td>United States of America</td>\n",
              "      <td>Male</td>\n",
              "      <td>Columbia University</td>\n",
              "      <td>New York, NY</td>\n",
              "      <td>United States of America</td>\n",
              "      <td>NaN</td>\n",
              "      <td>NaN</td>\n",
              "      <td>NaN</td>\n",
              "    </tr>\n",
              "  </tbody>\n",
              "</table>\n",
              "</div>"
            ],
            "text/plain": [
              "     year    category                                           prize  \\\n",
              "369  1965     Physics                 The Nobel Prize in Physics 1965   \n",
              "72   1912       Peace                      The Nobel Peace Prize 1912   \n",
              "850  2011     Physics                 The Nobel Prize in Physics 2011   \n",
              "406  1970    Medicine  The Nobel Prize in Physiology or Medicine 1970   \n",
              "821  2009  Literature              The Nobel Prize in Literature 2009   \n",
              "814  2008     Physics                 The Nobel Prize in Physics 2008   \n",
              "109  1922    Medicine  The Nobel Prize in Physiology or Medicine 1922   \n",
              "888  2014     Physics                 The Nobel Prize in Physics 2014   \n",
              "698  1998     Physics                 The Nobel Prize in Physics 1998   \n",
              "805  2008   Chemistry               The Nobel Prize in Chemistry 2008   \n",
              "\n",
              "                                            motivation prize_share  \\\n",
              "369  \"for their fundamental work in quantum electro...         1/3   \n",
              "72                                                 NaN         1/1   \n",
              "850  \"for the discovery of the accelerating expansi...         1/2   \n",
              "406  \"for their discoveries concerning the humoral ...         1/3   \n",
              "821  \"who, with the concentration of poetry and the...         1/1   \n",
              "814  \"for the discovery of the origin of the broken...         1/4   \n",
              "109  \"for his discovery relating to the production ...         1/2   \n",
              "888  \"for the invention of efficient blue light-emi...         1/3   \n",
              "698  \"for their discovery of a new form of quantum ...         1/3   \n",
              "805  \"for the discovery and development of the gree...         1/3   \n",
              "\n",
              "     laureate_id laureate_type              full_name  birth_date  \\\n",
              "369           86    Individual     Richard P. Feynman  1918-05-11   \n",
              "72           480    Individual             Elihu Root  1845-02-15   \n",
              "850          864    Individual        Saul Perlmutter         NaN   \n",
              "406          396    Individual         Julius Axelrod  1912-05-30   \n",
              "821          844    Individual           Herta Müller  1953-08-17   \n",
              "814          827    Individual       Makoto Kobayashi  1944-04-07   \n",
              "109          311    Individual  Archibald Vivian Hill  1886-09-26   \n",
              "888          908    Individual         Shuji Nakamura  1954-05-22   \n",
              "698          157    Individual         Daniel C. Tsui  1939-02-28   \n",
              "805          830    Individual         Martin Chalfie  1947-01-15   \n",
              "\n",
              "               birth_city             birth_country     sex  \\\n",
              "369          New York, NY  United States of America    Male   \n",
              "72            Clinton, NY  United States of America    Male   \n",
              "850  Champaign-Urbana, IL  United States of America    Male   \n",
              "406          New York, NY  United States of America    Male   \n",
              "821     Nitzkydorf, Banat                   Romania  Female   \n",
              "814                Nagoya                     Japan    Male   \n",
              "109               Bristol            United Kingdom    Male   \n",
              "888                 Ikata                     Japan    Male   \n",
              "698                 Henan                     China    Male   \n",
              "805           Chicago, IL  United States of America    Male   \n",
              "\n",
              "                                     organization_name  organization_city  \\\n",
              "369       California Institute of Technology (Caltech)       Pasadena, CA   \n",
              "72                                                 NaN                NaN   \n",
              "850              Lawrence Berkeley National Laboratory       Berkeley, CA   \n",
              "406                      National Institutes of Health       Bethesda, MD   \n",
              "821                                                NaN                NaN   \n",
              "814  High Energy Accelerator Research Organization ...            Tsukuba   \n",
              "109                                  London University             London   \n",
              "888                           University of California  Santa Barbara, CA   \n",
              "698                               Princeton University      Princeton, NJ   \n",
              "805                                Columbia University       New York, NY   \n",
              "\n",
              "         organization_country  death_date       death_city  \\\n",
              "369  United States of America  1988-02-15  Los Angeles, CA   \n",
              "72                        NaN  1937-02-07     New York, NY   \n",
              "850  United States of America         NaN              NaN   \n",
              "406  United States of America  2004-12-29    Rockville, MD   \n",
              "821                       NaN         NaN              NaN   \n",
              "814                     Japan         NaN              NaN   \n",
              "109            United Kingdom  1977-06-03        Cambridge   \n",
              "888  United States of America         NaN              NaN   \n",
              "698  United States of America         NaN              NaN   \n",
              "805  United States of America         NaN              NaN   \n",
              "\n",
              "                death_country  \n",
              "369  United States of America  \n",
              "72   United States of America  \n",
              "850                       NaN  \n",
              "406  United States of America  \n",
              "821                       NaN  \n",
              "814                       NaN  \n",
              "109            United Kingdom  \n",
              "888                       NaN  \n",
              "698                       NaN  \n",
              "805                       NaN  "
            ]
          },
          "execution_count": 172,
          "metadata": {},
          "output_type": "execute_result"
        }
      ],
      "source": [
        "nobel_raw_df.sample(10)"
      ]
    },
    {
      "cell_type": "code",
      "execution_count": null,
      "metadata": {
        "id": "QYsCqfTqfeDb"
      },
      "outputs": [],
      "source": [
        "!pip install jovian --upgrade --quiet"
      ]
    },
    {
      "cell_type": "code",
      "execution_count": null,
      "metadata": {
        "id": "xhAK0XwmfeDc"
      },
      "outputs": [],
      "source": [
        "import jovian"
      ]
    },
    {
      "cell_type": "code",
      "execution_count": null,
      "metadata": {
        "id": "WaqER29LfeDc",
        "outputId": "35c0cda3-6074-412c-9dc1-28dae5c49c4d"
      },
      "outputs": [
        {
          "data": {
            "application/javascript": [
              "window.require && require([\"base/js/namespace\"],function(Jupyter){Jupyter.notebook.save_checkpoint()})"
            ],
            "text/plain": [
              "<IPython.core.display.Javascript object>"
            ]
          },
          "metadata": {},
          "output_type": "display_data"
        },
        {
          "name": "stdout",
          "output_type": "stream",
          "text": [
            "[jovian] Updating notebook \"khanaabidabdal/nobel-prize-insight\" on https://jovian.com\u001b[0m\n",
            "[jovian] Committed successfully! https://jovian.com/khanaabidabdal/nobel-prize-insight\u001b[0m\n"
          ]
        },
        {
          "data": {
            "text/plain": [
              "'https://jovian.com/khanaabidabdal/nobel-prize-insight'"
            ]
          },
          "execution_count": 175,
          "metadata": {},
          "output_type": "execute_result"
        }
      ],
      "source": [
        "jovian.commit(project='Nobel Prize Insight')"
      ]
    },
    {
      "cell_type": "markdown",
      "metadata": {
        "id": "KV3GA52qfeDc"
      },
      "source": [
        "## Data Preparation and Cleaning\n",
        "\n",
        "The directly downloaded data from any sources consists lots of uncleaned data,Nan values,Empty cells and unwanted materials.Therefore, before using any data first we have to clean it to make it in the form which wanted.\n"
      ]
    },
    {
      "cell_type": "code",
      "execution_count": null,
      "metadata": {
        "id": "p-kDef8EfeDc",
        "outputId": "7a55f27f-5fd4-4de4-b1e8-acf0ab18e556"
      },
      "outputs": [
        {
          "data": {
            "text/html": [
              "<div>\n",
              "<style scoped>\n",
              "    .dataframe tbody tr th:only-of-type {\n",
              "        vertical-align: middle;\n",
              "    }\n",
              "\n",
              "    .dataframe tbody tr th {\n",
              "        vertical-align: top;\n",
              "    }\n",
              "\n",
              "    .dataframe thead th {\n",
              "        text-align: right;\n",
              "    }\n",
              "</style>\n",
              "<table border=\"1\" class=\"dataframe\">\n",
              "  <thead>\n",
              "    <tr style=\"text-align: right;\">\n",
              "      <th></th>\n",
              "      <th>year</th>\n",
              "      <th>category</th>\n",
              "      <th>prize</th>\n",
              "      <th>motivation</th>\n",
              "      <th>prize_share</th>\n",
              "      <th>laureate_id</th>\n",
              "      <th>laureate_type</th>\n",
              "      <th>full_name</th>\n",
              "      <th>birth_date</th>\n",
              "      <th>birth_city</th>\n",
              "      <th>birth_country</th>\n",
              "      <th>sex</th>\n",
              "      <th>organization_name</th>\n",
              "      <th>organization_city</th>\n",
              "      <th>organization_country</th>\n",
              "      <th>death_date</th>\n",
              "      <th>death_city</th>\n",
              "      <th>death_country</th>\n",
              "    </tr>\n",
              "  </thead>\n",
              "  <tbody>\n",
              "    <tr>\n",
              "      <th>0</th>\n",
              "      <td>1901</td>\n",
              "      <td>Chemistry</td>\n",
              "      <td>The Nobel Prize in Chemistry 1901</td>\n",
              "      <td>\"in recognition of the extraordinary services ...</td>\n",
              "      <td>1/1</td>\n",
              "      <td>160</td>\n",
              "      <td>Individual</td>\n",
              "      <td>Jacobus Henricus van 't Hoff</td>\n",
              "      <td>1852-08-30</td>\n",
              "      <td>Rotterdam</td>\n",
              "      <td>Netherlands</td>\n",
              "      <td>Male</td>\n",
              "      <td>Berlin University</td>\n",
              "      <td>Berlin</td>\n",
              "      <td>Germany</td>\n",
              "      <td>1911-03-01</td>\n",
              "      <td>Berlin</td>\n",
              "      <td>Germany</td>\n",
              "    </tr>\n",
              "    <tr>\n",
              "      <th>1</th>\n",
              "      <td>1901</td>\n",
              "      <td>Literature</td>\n",
              "      <td>The Nobel Prize in Literature 1901</td>\n",
              "      <td>\"in special recognition of his poetic composit...</td>\n",
              "      <td>1/1</td>\n",
              "      <td>569</td>\n",
              "      <td>Individual</td>\n",
              "      <td>Sully Prudhomme</td>\n",
              "      <td>1839-03-16</td>\n",
              "      <td>Paris</td>\n",
              "      <td>France</td>\n",
              "      <td>Male</td>\n",
              "      <td>NaN</td>\n",
              "      <td>NaN</td>\n",
              "      <td>NaN</td>\n",
              "      <td>1907-09-07</td>\n",
              "      <td>Châtenay</td>\n",
              "      <td>France</td>\n",
              "    </tr>\n",
              "    <tr>\n",
              "      <th>2</th>\n",
              "      <td>1901</td>\n",
              "      <td>Medicine</td>\n",
              "      <td>The Nobel Prize in Physiology or Medicine 1901</td>\n",
              "      <td>\"for his work on serum therapy, especially its...</td>\n",
              "      <td>1/1</td>\n",
              "      <td>293</td>\n",
              "      <td>Individual</td>\n",
              "      <td>Emil Adolf von Behring</td>\n",
              "      <td>1854-03-15</td>\n",
              "      <td>Hansdorf (Lawice)</td>\n",
              "      <td>Prussia (Poland)</td>\n",
              "      <td>Male</td>\n",
              "      <td>Marburg University</td>\n",
              "      <td>Marburg</td>\n",
              "      <td>Germany</td>\n",
              "      <td>1917-03-31</td>\n",
              "      <td>Marburg</td>\n",
              "      <td>Germany</td>\n",
              "    </tr>\n",
              "    <tr>\n",
              "      <th>3</th>\n",
              "      <td>1901</td>\n",
              "      <td>Peace</td>\n",
              "      <td>The Nobel Peace Prize 1901</td>\n",
              "      <td>NaN</td>\n",
              "      <td>1/2</td>\n",
              "      <td>462</td>\n",
              "      <td>Individual</td>\n",
              "      <td>Jean Henry Dunant</td>\n",
              "      <td>1828-05-08</td>\n",
              "      <td>Geneva</td>\n",
              "      <td>Switzerland</td>\n",
              "      <td>Male</td>\n",
              "      <td>NaN</td>\n",
              "      <td>NaN</td>\n",
              "      <td>NaN</td>\n",
              "      <td>1910-10-30</td>\n",
              "      <td>Heiden</td>\n",
              "      <td>Switzerland</td>\n",
              "    </tr>\n",
              "    <tr>\n",
              "      <th>4</th>\n",
              "      <td>1901</td>\n",
              "      <td>Peace</td>\n",
              "      <td>The Nobel Peace Prize 1901</td>\n",
              "      <td>NaN</td>\n",
              "      <td>1/2</td>\n",
              "      <td>463</td>\n",
              "      <td>Individual</td>\n",
              "      <td>Frédéric Passy</td>\n",
              "      <td>1822-05-20</td>\n",
              "      <td>Paris</td>\n",
              "      <td>France</td>\n",
              "      <td>Male</td>\n",
              "      <td>NaN</td>\n",
              "      <td>NaN</td>\n",
              "      <td>NaN</td>\n",
              "      <td>1912-06-12</td>\n",
              "      <td>Paris</td>\n",
              "      <td>France</td>\n",
              "    </tr>\n",
              "  </tbody>\n",
              "</table>\n",
              "</div>"
            ],
            "text/plain": [
              "   year    category                                           prize  \\\n",
              "0  1901   Chemistry               The Nobel Prize in Chemistry 1901   \n",
              "1  1901  Literature              The Nobel Prize in Literature 1901   \n",
              "2  1901    Medicine  The Nobel Prize in Physiology or Medicine 1901   \n",
              "3  1901       Peace                      The Nobel Peace Prize 1901   \n",
              "4  1901       Peace                      The Nobel Peace Prize 1901   \n",
              "\n",
              "                                          motivation prize_share  laureate_id  \\\n",
              "0  \"in recognition of the extraordinary services ...         1/1          160   \n",
              "1  \"in special recognition of his poetic composit...         1/1          569   \n",
              "2  \"for his work on serum therapy, especially its...         1/1          293   \n",
              "3                                                NaN         1/2          462   \n",
              "4                                                NaN         1/2          463   \n",
              "\n",
              "  laureate_type                     full_name  birth_date         birth_city  \\\n",
              "0    Individual  Jacobus Henricus van 't Hoff  1852-08-30          Rotterdam   \n",
              "1    Individual               Sully Prudhomme  1839-03-16              Paris   \n",
              "2    Individual        Emil Adolf von Behring  1854-03-15  Hansdorf (Lawice)   \n",
              "3    Individual             Jean Henry Dunant  1828-05-08             Geneva   \n",
              "4    Individual                Frédéric Passy  1822-05-20              Paris   \n",
              "\n",
              "      birth_country   sex   organization_name organization_city  \\\n",
              "0       Netherlands  Male   Berlin University            Berlin   \n",
              "1            France  Male                 NaN               NaN   \n",
              "2  Prussia (Poland)  Male  Marburg University           Marburg   \n",
              "3       Switzerland  Male                 NaN               NaN   \n",
              "4            France  Male                 NaN               NaN   \n",
              "\n",
              "  organization_country  death_date death_city death_country  \n",
              "0              Germany  1911-03-01     Berlin       Germany  \n",
              "1                  NaN  1907-09-07   Châtenay        France  \n",
              "2              Germany  1917-03-31    Marburg       Germany  \n",
              "3                  NaN  1910-10-30     Heiden   Switzerland  \n",
              "4                  NaN  1912-06-12      Paris        France  "
            ]
          },
          "execution_count": 176,
          "metadata": {},
          "output_type": "execute_result"
        }
      ],
      "source": [
        "nobel_raw_df.head()"
      ]
    },
    {
      "cell_type": "code",
      "execution_count": null,
      "metadata": {
        "id": "gnlBJ53cfeDc",
        "outputId": "f07e379c-a35d-492e-b665-ca4100ed0fda"
      },
      "outputs": [
        {
          "data": {
            "text/plain": [
              "Index(['year', 'category', 'prize', 'motivation', 'prize_share', 'laureate_id',\n",
              "       'laureate_type', 'full_name', 'birth_date', 'birth_city',\n",
              "       'birth_country', 'sex', 'organization_name', 'organization_city',\n",
              "       'organization_country', 'death_date', 'death_city', 'death_country'],\n",
              "      dtype='object')"
            ]
          },
          "execution_count": 177,
          "metadata": {},
          "output_type": "execute_result"
        }
      ],
      "source": [
        "nobel_raw_df.columns"
      ]
    },
    {
      "cell_type": "code",
      "execution_count": null,
      "metadata": {
        "id": "nAVXuI9-feDc"
      },
      "outputs": [],
      "source": [
        "selected_cols=['year','category','prize','motivation','prize_share','laureate_id','laureate_type','full_name','birth_date','birth_country','sex']"
      ]
    },
    {
      "cell_type": "code",
      "execution_count": null,
      "metadata": {
        "id": "mDm6CcddfeDc"
      },
      "outputs": [],
      "source": [
        "nobel_df=nobel_raw_df[selected_cols].copy()"
      ]
    },
    {
      "cell_type": "code",
      "execution_count": null,
      "metadata": {
        "id": "DRLw4P-qfeDd",
        "outputId": "0bd2a837-3402-4c66-db02-af936a8b2cb7"
      },
      "outputs": [
        {
          "data": {
            "text/html": [
              "<div>\n",
              "<style scoped>\n",
              "    .dataframe tbody tr th:only-of-type {\n",
              "        vertical-align: middle;\n",
              "    }\n",
              "\n",
              "    .dataframe tbody tr th {\n",
              "        vertical-align: top;\n",
              "    }\n",
              "\n",
              "    .dataframe thead th {\n",
              "        text-align: right;\n",
              "    }\n",
              "</style>\n",
              "<table border=\"1\" class=\"dataframe\">\n",
              "  <thead>\n",
              "    <tr style=\"text-align: right;\">\n",
              "      <th></th>\n",
              "      <th>year</th>\n",
              "      <th>category</th>\n",
              "      <th>prize</th>\n",
              "      <th>motivation</th>\n",
              "      <th>prize_share</th>\n",
              "      <th>laureate_id</th>\n",
              "      <th>laureate_type</th>\n",
              "      <th>full_name</th>\n",
              "      <th>birth_date</th>\n",
              "      <th>birth_country</th>\n",
              "      <th>sex</th>\n",
              "    </tr>\n",
              "  </thead>\n",
              "  <tbody>\n",
              "    <tr>\n",
              "      <th>0</th>\n",
              "      <td>1901</td>\n",
              "      <td>Chemistry</td>\n",
              "      <td>The Nobel Prize in Chemistry 1901</td>\n",
              "      <td>\"in recognition of the extraordinary services ...</td>\n",
              "      <td>1/1</td>\n",
              "      <td>160</td>\n",
              "      <td>Individual</td>\n",
              "      <td>Jacobus Henricus van 't Hoff</td>\n",
              "      <td>1852-08-30</td>\n",
              "      <td>Netherlands</td>\n",
              "      <td>Male</td>\n",
              "    </tr>\n",
              "    <tr>\n",
              "      <th>1</th>\n",
              "      <td>1901</td>\n",
              "      <td>Literature</td>\n",
              "      <td>The Nobel Prize in Literature 1901</td>\n",
              "      <td>\"in special recognition of his poetic composit...</td>\n",
              "      <td>1/1</td>\n",
              "      <td>569</td>\n",
              "      <td>Individual</td>\n",
              "      <td>Sully Prudhomme</td>\n",
              "      <td>1839-03-16</td>\n",
              "      <td>France</td>\n",
              "      <td>Male</td>\n",
              "    </tr>\n",
              "    <tr>\n",
              "      <th>2</th>\n",
              "      <td>1901</td>\n",
              "      <td>Medicine</td>\n",
              "      <td>The Nobel Prize in Physiology or Medicine 1901</td>\n",
              "      <td>\"for his work on serum therapy, especially its...</td>\n",
              "      <td>1/1</td>\n",
              "      <td>293</td>\n",
              "      <td>Individual</td>\n",
              "      <td>Emil Adolf von Behring</td>\n",
              "      <td>1854-03-15</td>\n",
              "      <td>Prussia (Poland)</td>\n",
              "      <td>Male</td>\n",
              "    </tr>\n",
              "    <tr>\n",
              "      <th>3</th>\n",
              "      <td>1901</td>\n",
              "      <td>Peace</td>\n",
              "      <td>The Nobel Peace Prize 1901</td>\n",
              "      <td>NaN</td>\n",
              "      <td>1/2</td>\n",
              "      <td>462</td>\n",
              "      <td>Individual</td>\n",
              "      <td>Jean Henry Dunant</td>\n",
              "      <td>1828-05-08</td>\n",
              "      <td>Switzerland</td>\n",
              "      <td>Male</td>\n",
              "    </tr>\n",
              "    <tr>\n",
              "      <th>4</th>\n",
              "      <td>1901</td>\n",
              "      <td>Peace</td>\n",
              "      <td>The Nobel Peace Prize 1901</td>\n",
              "      <td>NaN</td>\n",
              "      <td>1/2</td>\n",
              "      <td>463</td>\n",
              "      <td>Individual</td>\n",
              "      <td>Frédéric Passy</td>\n",
              "      <td>1822-05-20</td>\n",
              "      <td>France</td>\n",
              "      <td>Male</td>\n",
              "    </tr>\n",
              "    <tr>\n",
              "      <th>5</th>\n",
              "      <td>1901</td>\n",
              "      <td>Physics</td>\n",
              "      <td>The Nobel Prize in Physics 1901</td>\n",
              "      <td>\"in recognition of the extraordinary services ...</td>\n",
              "      <td>1/1</td>\n",
              "      <td>1</td>\n",
              "      <td>Individual</td>\n",
              "      <td>Wilhelm Conrad Röntgen</td>\n",
              "      <td>1845-03-27</td>\n",
              "      <td>Prussia (Germany)</td>\n",
              "      <td>Male</td>\n",
              "    </tr>\n",
              "    <tr>\n",
              "      <th>6</th>\n",
              "      <td>1902</td>\n",
              "      <td>Chemistry</td>\n",
              "      <td>The Nobel Prize in Chemistry 1902</td>\n",
              "      <td>\"in recognition of the extraordinary services ...</td>\n",
              "      <td>1/1</td>\n",
              "      <td>161</td>\n",
              "      <td>Individual</td>\n",
              "      <td>Hermann Emil Fischer</td>\n",
              "      <td>1852-10-09</td>\n",
              "      <td>Prussia (Germany)</td>\n",
              "      <td>Male</td>\n",
              "    </tr>\n",
              "    <tr>\n",
              "      <th>7</th>\n",
              "      <td>1902</td>\n",
              "      <td>Literature</td>\n",
              "      <td>The Nobel Prize in Literature 1902</td>\n",
              "      <td>\"the greatest living master of the art of hist...</td>\n",
              "      <td>1/1</td>\n",
              "      <td>571</td>\n",
              "      <td>Individual</td>\n",
              "      <td>Christian Matthias Theodor Mommsen</td>\n",
              "      <td>1817-11-30</td>\n",
              "      <td>Schleswig (Germany)</td>\n",
              "      <td>Male</td>\n",
              "    </tr>\n",
              "    <tr>\n",
              "      <th>8</th>\n",
              "      <td>1902</td>\n",
              "      <td>Medicine</td>\n",
              "      <td>The Nobel Prize in Physiology or Medicine 1902</td>\n",
              "      <td>\"for his work on malaria, by which he has show...</td>\n",
              "      <td>1/1</td>\n",
              "      <td>294</td>\n",
              "      <td>Individual</td>\n",
              "      <td>Ronald Ross</td>\n",
              "      <td>1857-05-13</td>\n",
              "      <td>India</td>\n",
              "      <td>Male</td>\n",
              "    </tr>\n",
              "    <tr>\n",
              "      <th>9</th>\n",
              "      <td>1902</td>\n",
              "      <td>Peace</td>\n",
              "      <td>The Nobel Peace Prize 1902</td>\n",
              "      <td>NaN</td>\n",
              "      <td>1/2</td>\n",
              "      <td>464</td>\n",
              "      <td>Individual</td>\n",
              "      <td>Élie Ducommun</td>\n",
              "      <td>1833-02-19</td>\n",
              "      <td>Switzerland</td>\n",
              "      <td>Male</td>\n",
              "    </tr>\n",
              "  </tbody>\n",
              "</table>\n",
              "</div>"
            ],
            "text/plain": [
              "   year    category                                           prize  \\\n",
              "0  1901   Chemistry               The Nobel Prize in Chemistry 1901   \n",
              "1  1901  Literature              The Nobel Prize in Literature 1901   \n",
              "2  1901    Medicine  The Nobel Prize in Physiology or Medicine 1901   \n",
              "3  1901       Peace                      The Nobel Peace Prize 1901   \n",
              "4  1901       Peace                      The Nobel Peace Prize 1901   \n",
              "5  1901     Physics                 The Nobel Prize in Physics 1901   \n",
              "6  1902   Chemistry               The Nobel Prize in Chemistry 1902   \n",
              "7  1902  Literature              The Nobel Prize in Literature 1902   \n",
              "8  1902    Medicine  The Nobel Prize in Physiology or Medicine 1902   \n",
              "9  1902       Peace                      The Nobel Peace Prize 1902   \n",
              "\n",
              "                                          motivation prize_share  laureate_id  \\\n",
              "0  \"in recognition of the extraordinary services ...         1/1          160   \n",
              "1  \"in special recognition of his poetic composit...         1/1          569   \n",
              "2  \"for his work on serum therapy, especially its...         1/1          293   \n",
              "3                                                NaN         1/2          462   \n",
              "4                                                NaN         1/2          463   \n",
              "5  \"in recognition of the extraordinary services ...         1/1            1   \n",
              "6  \"in recognition of the extraordinary services ...         1/1          161   \n",
              "7  \"the greatest living master of the art of hist...         1/1          571   \n",
              "8  \"for his work on malaria, by which he has show...         1/1          294   \n",
              "9                                                NaN         1/2          464   \n",
              "\n",
              "  laureate_type                           full_name  birth_date  \\\n",
              "0    Individual        Jacobus Henricus van 't Hoff  1852-08-30   \n",
              "1    Individual                     Sully Prudhomme  1839-03-16   \n",
              "2    Individual              Emil Adolf von Behring  1854-03-15   \n",
              "3    Individual                   Jean Henry Dunant  1828-05-08   \n",
              "4    Individual                      Frédéric Passy  1822-05-20   \n",
              "5    Individual              Wilhelm Conrad Röntgen  1845-03-27   \n",
              "6    Individual                Hermann Emil Fischer  1852-10-09   \n",
              "7    Individual  Christian Matthias Theodor Mommsen  1817-11-30   \n",
              "8    Individual                         Ronald Ross  1857-05-13   \n",
              "9    Individual                       Élie Ducommun  1833-02-19   \n",
              "\n",
              "         birth_country   sex  \n",
              "0          Netherlands  Male  \n",
              "1               France  Male  \n",
              "2     Prussia (Poland)  Male  \n",
              "3          Switzerland  Male  \n",
              "4               France  Male  \n",
              "5    Prussia (Germany)  Male  \n",
              "6    Prussia (Germany)  Male  \n",
              "7  Schleswig (Germany)  Male  \n",
              "8                India  Male  \n",
              "9          Switzerland  Male  "
            ]
          },
          "execution_count": 180,
          "metadata": {},
          "output_type": "execute_result"
        }
      ],
      "source": [
        "nobel_df.head(10)"
      ]
    },
    {
      "cell_type": "code",
      "execution_count": null,
      "metadata": {
        "id": "0tZX5XdWfeDd",
        "outputId": "2e45b674-b96f-49e8-da10-4e911a0f193e"
      },
      "outputs": [
        {
          "data": {
            "text/plain": [
              "(911, 11)"
            ]
          },
          "execution_count": 181,
          "metadata": {},
          "output_type": "execute_result"
        }
      ],
      "source": [
        "nobel_df.shape"
      ]
    },
    {
      "cell_type": "code",
      "execution_count": null,
      "metadata": {
        "id": "rv9sl7mvfeDd",
        "outputId": "46c459b8-beb6-440f-8617-6d8fafc9082f"
      },
      "outputs": [
        {
          "data": {
            "text/html": [
              "<div>\n",
              "<style scoped>\n",
              "    .dataframe tbody tr th:only-of-type {\n",
              "        vertical-align: middle;\n",
              "    }\n",
              "\n",
              "    .dataframe tbody tr th {\n",
              "        vertical-align: top;\n",
              "    }\n",
              "\n",
              "    .dataframe thead th {\n",
              "        text-align: right;\n",
              "    }\n",
              "</style>\n",
              "<table border=\"1\" class=\"dataframe\">\n",
              "  <thead>\n",
              "    <tr style=\"text-align: right;\">\n",
              "      <th></th>\n",
              "      <th>year</th>\n",
              "      <th>laureate_id</th>\n",
              "    </tr>\n",
              "  </thead>\n",
              "  <tbody>\n",
              "    <tr>\n",
              "      <th>count</th>\n",
              "      <td>911.000000</td>\n",
              "      <td>911.000000</td>\n",
              "    </tr>\n",
              "    <tr>\n",
              "      <th>mean</th>\n",
              "      <td>1969.201976</td>\n",
              "      <td>462.515917</td>\n",
              "    </tr>\n",
              "    <tr>\n",
              "      <th>std</th>\n",
              "      <td>32.837978</td>\n",
              "      <td>270.236159</td>\n",
              "    </tr>\n",
              "    <tr>\n",
              "      <th>min</th>\n",
              "      <td>1901.000000</td>\n",
              "      <td>1.000000</td>\n",
              "    </tr>\n",
              "    <tr>\n",
              "      <th>25%</th>\n",
              "      <td>1946.000000</td>\n",
              "      <td>228.500000</td>\n",
              "    </tr>\n",
              "    <tr>\n",
              "      <th>50%</th>\n",
              "      <td>1975.000000</td>\n",
              "      <td>457.000000</td>\n",
              "    </tr>\n",
              "    <tr>\n",
              "      <th>75%</th>\n",
              "      <td>1997.000000</td>\n",
              "      <td>698.500000</td>\n",
              "    </tr>\n",
              "    <tr>\n",
              "      <th>max</th>\n",
              "      <td>2016.000000</td>\n",
              "      <td>937.000000</td>\n",
              "    </tr>\n",
              "  </tbody>\n",
              "</table>\n",
              "</div>"
            ],
            "text/plain": [
              "              year  laureate_id\n",
              "count   911.000000   911.000000\n",
              "mean   1969.201976   462.515917\n",
              "std      32.837978   270.236159\n",
              "min    1901.000000     1.000000\n",
              "25%    1946.000000   228.500000\n",
              "50%    1975.000000   457.000000\n",
              "75%    1997.000000   698.500000\n",
              "max    2016.000000   937.000000"
            ]
          },
          "execution_count": 182,
          "metadata": {},
          "output_type": "execute_result"
        }
      ],
      "source": [
        "nobel_df.describe()"
      ]
    },
    {
      "cell_type": "code",
      "execution_count": null,
      "metadata": {
        "id": "QRWoAOCyfeDd",
        "outputId": "c2473e08-8494-4a30-87c5-09ffa4ed8133"
      },
      "outputs": [
        {
          "data": {
            "text/html": [
              "<div>\n",
              "<style scoped>\n",
              "    .dataframe tbody tr th:only-of-type {\n",
              "        vertical-align: middle;\n",
              "    }\n",
              "\n",
              "    .dataframe tbody tr th {\n",
              "        vertical-align: top;\n",
              "    }\n",
              "\n",
              "    .dataframe thead th {\n",
              "        text-align: right;\n",
              "    }\n",
              "</style>\n",
              "<table border=\"1\" class=\"dataframe\">\n",
              "  <thead>\n",
              "    <tr style=\"text-align: right;\">\n",
              "      <th></th>\n",
              "      <th>year</th>\n",
              "      <th>category</th>\n",
              "      <th>prize</th>\n",
              "      <th>motivation</th>\n",
              "      <th>prize_share</th>\n",
              "      <th>laureate_id</th>\n",
              "      <th>laureate_type</th>\n",
              "      <th>full_name</th>\n",
              "      <th>birth_date</th>\n",
              "      <th>birth_country</th>\n",
              "      <th>sex</th>\n",
              "    </tr>\n",
              "  </thead>\n",
              "  <tbody>\n",
              "    <tr>\n",
              "      <th>322</th>\n",
              "      <td>1960</td>\n",
              "      <td>Chemistry</td>\n",
              "      <td>The Nobel Prize in Chemistry 1960</td>\n",
              "      <td>\"for his method to use carbon-14 for age deter...</td>\n",
              "      <td>1/1</td>\n",
              "      <td>224</td>\n",
              "      <td>Individual</td>\n",
              "      <td>Willard Frank Libby</td>\n",
              "      <td>1908-12-17</td>\n",
              "      <td>United States of America</td>\n",
              "      <td>Male</td>\n",
              "    </tr>\n",
              "    <tr>\n",
              "      <th>462</th>\n",
              "      <td>1975</td>\n",
              "      <td>Physics</td>\n",
              "      <td>The Nobel Prize in Physics 1975</td>\n",
              "      <td>\"for the discovery of the connection between c...</td>\n",
              "      <td>1/3</td>\n",
              "      <td>104</td>\n",
              "      <td>Individual</td>\n",
              "      <td>Leo James Rainwater</td>\n",
              "      <td>1917-12-09</td>\n",
              "      <td>United States of America</td>\n",
              "      <td>Male</td>\n",
              "    </tr>\n",
              "    <tr>\n",
              "      <th>488</th>\n",
              "      <td>1978</td>\n",
              "      <td>Medicine</td>\n",
              "      <td>The Nobel Prize in Physiology or Medicine 1978</td>\n",
              "      <td>\"for the discovery of restriction enzymes and ...</td>\n",
              "      <td>1/3</td>\n",
              "      <td>416</td>\n",
              "      <td>Individual</td>\n",
              "      <td>Hamilton O. Smith</td>\n",
              "      <td>1931-08-23</td>\n",
              "      <td>United States of America</td>\n",
              "      <td>Male</td>\n",
              "    </tr>\n",
              "    <tr>\n",
              "      <th>840</th>\n",
              "      <td>2011</td>\n",
              "      <td>Chemistry</td>\n",
              "      <td>The Nobel Prize in Chemistry 2011</td>\n",
              "      <td>\"for the discovery of quasicrystals\"</td>\n",
              "      <td>1/1</td>\n",
              "      <td>867</td>\n",
              "      <td>Individual</td>\n",
              "      <td>Dan Shechtman</td>\n",
              "      <td>1941-01-24</td>\n",
              "      <td>British Mandate of Palestine (Israel)</td>\n",
              "      <td>Male</td>\n",
              "    </tr>\n",
              "    <tr>\n",
              "      <th>903</th>\n",
              "      <td>2016</td>\n",
              "      <td>Economics</td>\n",
              "      <td>The Sveriges Riksbank Prize in Economic Scienc...</td>\n",
              "      <td>\"for their contributions to contract theory\"</td>\n",
              "      <td>1/2</td>\n",
              "      <td>935</td>\n",
              "      <td>Individual</td>\n",
              "      <td>Oliver Hart</td>\n",
              "      <td>1948-10-09</td>\n",
              "      <td>United Kingdom</td>\n",
              "      <td>Male</td>\n",
              "    </tr>\n",
              "    <tr>\n",
              "      <th>272</th>\n",
              "      <td>1953</td>\n",
              "      <td>Chemistry</td>\n",
              "      <td>The Nobel Prize in Chemistry 1953</td>\n",
              "      <td>\"for his discoveries in the field of macromole...</td>\n",
              "      <td>1/1</td>\n",
              "      <td>216</td>\n",
              "      <td>Individual</td>\n",
              "      <td>Hermann Staudinger</td>\n",
              "      <td>1881-03-23</td>\n",
              "      <td>Germany</td>\n",
              "      <td>Male</td>\n",
              "    </tr>\n",
              "    <tr>\n",
              "      <th>65</th>\n",
              "      <td>1911</td>\n",
              "      <td>Peace</td>\n",
              "      <td>The Nobel Peace Prize 1911</td>\n",
              "      <td>NaN</td>\n",
              "      <td>1/2</td>\n",
              "      <td>478</td>\n",
              "      <td>Individual</td>\n",
              "      <td>Tobias Michael Carel Asser</td>\n",
              "      <td>1838-04-28</td>\n",
              "      <td>Netherlands</td>\n",
              "      <td>Male</td>\n",
              "    </tr>\n",
              "    <tr>\n",
              "      <th>77</th>\n",
              "      <td>1913</td>\n",
              "      <td>Peace</td>\n",
              "      <td>The Nobel Peace Prize 1913</td>\n",
              "      <td>NaN</td>\n",
              "      <td>1/1</td>\n",
              "      <td>481</td>\n",
              "      <td>Individual</td>\n",
              "      <td>Henri La Fontaine</td>\n",
              "      <td>1854-04-22</td>\n",
              "      <td>Belgium</td>\n",
              "      <td>Male</td>\n",
              "    </tr>\n",
              "    <tr>\n",
              "      <th>296</th>\n",
              "      <td>1956</td>\n",
              "      <td>Medicine</td>\n",
              "      <td>The Nobel Prize in Physiology or Medicine 1956</td>\n",
              "      <td>\"for their discoveries concerning heart cathet...</td>\n",
              "      <td>1/3</td>\n",
              "      <td>362</td>\n",
              "      <td>Individual</td>\n",
              "      <td>Dickinson W. Richards</td>\n",
              "      <td>1895-10-30</td>\n",
              "      <td>United States of America</td>\n",
              "      <td>Male</td>\n",
              "    </tr>\n",
              "    <tr>\n",
              "      <th>33</th>\n",
              "      <td>1906</td>\n",
              "      <td>Medicine</td>\n",
              "      <td>The Nobel Prize in Physiology or Medicine 1906</td>\n",
              "      <td>\"in recognition of their work on the structure...</td>\n",
              "      <td>1/2</td>\n",
              "      <td>298</td>\n",
              "      <td>Individual</td>\n",
              "      <td>Camillo Golgi</td>\n",
              "      <td>1843-07-07</td>\n",
              "      <td>Italy</td>\n",
              "      <td>Male</td>\n",
              "    </tr>\n",
              "  </tbody>\n",
              "</table>\n",
              "</div>"
            ],
            "text/plain": [
              "     year   category                                              prize  \\\n",
              "322  1960  Chemistry                  The Nobel Prize in Chemistry 1960   \n",
              "462  1975    Physics                    The Nobel Prize in Physics 1975   \n",
              "488  1978   Medicine     The Nobel Prize in Physiology or Medicine 1978   \n",
              "840  2011  Chemistry                  The Nobel Prize in Chemistry 2011   \n",
              "903  2016  Economics  The Sveriges Riksbank Prize in Economic Scienc...   \n",
              "272  1953  Chemistry                  The Nobel Prize in Chemistry 1953   \n",
              "65   1911      Peace                         The Nobel Peace Prize 1911   \n",
              "77   1913      Peace                         The Nobel Peace Prize 1913   \n",
              "296  1956   Medicine     The Nobel Prize in Physiology or Medicine 1956   \n",
              "33   1906   Medicine     The Nobel Prize in Physiology or Medicine 1906   \n",
              "\n",
              "                                            motivation prize_share  \\\n",
              "322  \"for his method to use carbon-14 for age deter...         1/1   \n",
              "462  \"for the discovery of the connection between c...         1/3   \n",
              "488  \"for the discovery of restriction enzymes and ...         1/3   \n",
              "840               \"for the discovery of quasicrystals\"         1/1   \n",
              "903       \"for their contributions to contract theory\"         1/2   \n",
              "272  \"for his discoveries in the field of macromole...         1/1   \n",
              "65                                                 NaN         1/2   \n",
              "77                                                 NaN         1/1   \n",
              "296  \"for their discoveries concerning heart cathet...         1/3   \n",
              "33   \"in recognition of their work on the structure...         1/2   \n",
              "\n",
              "     laureate_id laureate_type                   full_name  birth_date  \\\n",
              "322          224    Individual         Willard Frank Libby  1908-12-17   \n",
              "462          104    Individual         Leo James Rainwater  1917-12-09   \n",
              "488          416    Individual           Hamilton O. Smith  1931-08-23   \n",
              "840          867    Individual               Dan Shechtman  1941-01-24   \n",
              "903          935    Individual                 Oliver Hart  1948-10-09   \n",
              "272          216    Individual          Hermann Staudinger  1881-03-23   \n",
              "65           478    Individual  Tobias Michael Carel Asser  1838-04-28   \n",
              "77           481    Individual           Henri La Fontaine  1854-04-22   \n",
              "296          362    Individual       Dickinson W. Richards  1895-10-30   \n",
              "33           298    Individual               Camillo Golgi  1843-07-07   \n",
              "\n",
              "                             birth_country   sex  \n",
              "322               United States of America  Male  \n",
              "462               United States of America  Male  \n",
              "488               United States of America  Male  \n",
              "840  British Mandate of Palestine (Israel)  Male  \n",
              "903                         United Kingdom  Male  \n",
              "272                                Germany  Male  \n",
              "65                             Netherlands  Male  \n",
              "77                                 Belgium  Male  \n",
              "296               United States of America  Male  \n",
              "33                                   Italy  Male  "
            ]
          },
          "execution_count": 183,
          "metadata": {},
          "output_type": "execute_result"
        }
      ],
      "source": [
        "nobel_df.sample(10)"
      ]
    },
    {
      "cell_type": "code",
      "execution_count": null,
      "metadata": {
        "id": "rxsc0ECNfeDe",
        "outputId": "2b00c636-48bb-4ac8-d93e-87341e66ffa2"
      },
      "outputs": [
        {
          "name": "stdout",
          "output_type": "stream",
          "text": [
            "<class 'pandas.core.frame.DataFrame'>\n",
            "RangeIndex: 911 entries, 0 to 910\n",
            "Data columns (total 11 columns):\n",
            " #   Column         Non-Null Count  Dtype \n",
            "---  ------         --------------  ----- \n",
            " 0   year           911 non-null    int64 \n",
            " 1   category       911 non-null    object\n",
            " 2   prize          911 non-null    object\n",
            " 3   motivation     823 non-null    object\n",
            " 4   prize_share    911 non-null    object\n",
            " 5   laureate_id    911 non-null    int64 \n",
            " 6   laureate_type  911 non-null    object\n",
            " 7   full_name      911 non-null    object\n",
            " 8   birth_date     883 non-null    object\n",
            " 9   birth_country  885 non-null    object\n",
            " 10  sex            885 non-null    object\n",
            "dtypes: int64(2), object(9)\n",
            "memory usage: 78.4+ KB\n"
          ]
        }
      ],
      "source": [
        "nobel_df.info()"
      ]
    },
    {
      "cell_type": "code",
      "execution_count": null,
      "metadata": {
        "id": "vUXs9UaXfeDe"
      },
      "outputs": [],
      "source": [
        "import jovian"
      ]
    },
    {
      "cell_type": "code",
      "execution_count": null,
      "metadata": {
        "id": "0g1B6CBOfeDe",
        "outputId": "2e6a0027-736b-404c-b6eb-536b73434ae8"
      },
      "outputs": [
        {
          "data": {
            "application/javascript": [
              "window.require && require([\"base/js/namespace\"],function(Jupyter){Jupyter.notebook.save_checkpoint()})"
            ],
            "text/plain": [
              "<IPython.core.display.Javascript object>"
            ]
          },
          "metadata": {},
          "output_type": "display_data"
        },
        {
          "name": "stdout",
          "output_type": "stream",
          "text": [
            "[jovian] Updating notebook \"khanaabidabdal/nobel-prize-insight\" on https://jovian.com\u001b[0m\n",
            "[jovian] Committed successfully! https://jovian.com/khanaabidabdal/nobel-prize-insight\u001b[0m\n"
          ]
        },
        {
          "data": {
            "text/plain": [
              "'https://jovian.com/khanaabidabdal/nobel-prize-insight'"
            ]
          },
          "execution_count": 186,
          "metadata": {},
          "output_type": "execute_result"
        }
      ],
      "source": [
        "jovian.commit()"
      ]
    },
    {
      "cell_type": "markdown",
      "metadata": {
        "id": "D3PiWm_RfeDe"
      },
      "source": [
        "## Exploratory Analysis and Visualization\n",
        "\n",
        "Visualizing the data by plotting the different types of graph help us to understand the data in better way as compared to the numeric values.   \n"
      ]
    },
    {
      "cell_type": "markdown",
      "metadata": {
        "id": "OPwLq16DfeDe"
      },
      "source": [
        "Let's begin by importing`matplotlib.pyplot` and `seaborn`."
      ]
    },
    {
      "cell_type": "code",
      "execution_count": null,
      "metadata": {
        "id": "Yo8c4LmAfeDe"
      },
      "outputs": [],
      "source": [
        "import seaborn as sns\n",
        "import matplotlib\n",
        "import matplotlib.pyplot as plt\n",
        "%matplotlib inline\n",
        "\n",
        "sns.set_style('darkgrid')\n",
        "matplotlib.rcParams['font.size'] = 14\n",
        "matplotlib.rcParams['figure.figsize'] = (18, 10)\n",
        "matplotlib.rcParams['figure.facecolor'] = '#00000000'"
      ]
    },
    {
      "cell_type": "code",
      "execution_count": null,
      "metadata": {
        "id": "fnatLZ7pfeDe",
        "outputId": "a2900371-1311-4829-c726-ff2fbecaf505"
      },
      "outputs": [
        {
          "data": {
            "image/png": "[encoded data removed]",
            "text/plain": [
              "<Figure size 1296x720 with 1 Axes>"
            ]
          },
          "metadata": {
            "needs_background": "light"
          },
          "output_type": "display_data"
        }
      ],
      "source": [
        "sns.scatterplot(x='year',y='category',hue='sex',data=nobel_df);"
      ]
    },
    {
      "cell_type": "markdown",
      "metadata": {
        "id": "zie7YDbFfeDe"
      },
      "source": [
        ">**From above scatter plot following conclusions can be made:**\n",
        ">- The Nobel prize in Physics,chemistry,peace,literature and medicine were awarded from the starting of Nobel prize\n",
        "i.e. from 1901 while economics was added after 1965.\n",
        ">- During 1939 to 1946 the Nobel prize was not given because of second world war.\n",
        "Near the period of world war the peace prize was not awarded in huge number."
      ]
    },
    {
      "cell_type": "code",
      "execution_count": null,
      "metadata": {
        "id": "7j6Fs55ufeDe",
        "outputId": "d539d03c-5081-445b-c0c4-2b35e59e11d1"
      },
      "outputs": [
        {
          "data": {
            "text/html": [
              "<div>\n",
              "<style scoped>\n",
              "    .dataframe tbody tr th:only-of-type {\n",
              "        vertical-align: middle;\n",
              "    }\n",
              "\n",
              "    .dataframe tbody tr th {\n",
              "        vertical-align: top;\n",
              "    }\n",
              "\n",
              "    .dataframe thead th {\n",
              "        text-align: right;\n",
              "    }\n",
              "</style>\n",
              "<table border=\"1\" class=\"dataframe\">\n",
              "  <thead>\n",
              "    <tr style=\"text-align: right;\">\n",
              "      <th></th>\n",
              "      <th>year</th>\n",
              "      <th>category</th>\n",
              "      <th>prize</th>\n",
              "      <th>motivation</th>\n",
              "      <th>prize_share</th>\n",
              "      <th>laureate_id</th>\n",
              "      <th>laureate_type</th>\n",
              "      <th>full_name</th>\n",
              "      <th>birth_date</th>\n",
              "      <th>birth_country</th>\n",
              "      <th>sex</th>\n",
              "    </tr>\n",
              "  </thead>\n",
              "  <tbody>\n",
              "    <tr>\n",
              "      <th>390</th>\n",
              "      <td>1968</td>\n",
              "      <td>Physics</td>\n",
              "      <td>The Nobel Prize in Physics 1968</td>\n",
              "      <td>\"for his decisive contributions to elementary ...</td>\n",
              "      <td>1/1</td>\n",
              "      <td>89</td>\n",
              "      <td>Individual</td>\n",
              "      <td>Luis Walter Alvarez</td>\n",
              "      <td>1911-06-13</td>\n",
              "      <td>United States of America</td>\n",
              "      <td>Male</td>\n",
              "    </tr>\n",
              "    <tr>\n",
              "      <th>391</th>\n",
              "      <td>1969</td>\n",
              "      <td>Chemistry</td>\n",
              "      <td>The Nobel Prize in Chemistry 1969</td>\n",
              "      <td>\"for their contributions to the development of...</td>\n",
              "      <td>1/2</td>\n",
              "      <td>237</td>\n",
              "      <td>Individual</td>\n",
              "      <td>Derek H. R. Barton</td>\n",
              "      <td>1918-09-08</td>\n",
              "      <td>United Kingdom</td>\n",
              "      <td>Male</td>\n",
              "    </tr>\n",
              "    <tr>\n",
              "      <th>392</th>\n",
              "      <td>1969</td>\n",
              "      <td>Chemistry</td>\n",
              "      <td>The Nobel Prize in Chemistry 1969</td>\n",
              "      <td>\"for their contributions to the development of...</td>\n",
              "      <td>1/2</td>\n",
              "      <td>238</td>\n",
              "      <td>Individual</td>\n",
              "      <td>Odd Hassel</td>\n",
              "      <td>1897-05-17</td>\n",
              "      <td>Norway</td>\n",
              "      <td>Male</td>\n",
              "    </tr>\n",
              "    <tr>\n",
              "      <th>393</th>\n",
              "      <td>1969</td>\n",
              "      <td>Economics</td>\n",
              "      <td>The Sveriges Riksbank Prize in Economic Scienc...</td>\n",
              "      <td>\"for having developed and applied dynamic mode...</td>\n",
              "      <td>1/2</td>\n",
              "      <td>677</td>\n",
              "      <td>Individual</td>\n",
              "      <td>Ragnar Frisch</td>\n",
              "      <td>1895-03-03</td>\n",
              "      <td>Norway</td>\n",
              "      <td>Male</td>\n",
              "    </tr>\n",
              "    <tr>\n",
              "      <th>394</th>\n",
              "      <td>1969</td>\n",
              "      <td>Economics</td>\n",
              "      <td>The Sveriges Riksbank Prize in Economic Scienc...</td>\n",
              "      <td>\"for having developed and applied dynamic mode...</td>\n",
              "      <td>1/2</td>\n",
              "      <td>678</td>\n",
              "      <td>Individual</td>\n",
              "      <td>Jan Tinbergen</td>\n",
              "      <td>1903-04-12</td>\n",
              "      <td>Netherlands</td>\n",
              "      <td>Male</td>\n",
              "    </tr>\n",
              "    <tr>\n",
              "      <th>395</th>\n",
              "      <td>1969</td>\n",
              "      <td>Literature</td>\n",
              "      <td>The Nobel Prize in Literature 1969</td>\n",
              "      <td>\"for his writing, which - in new forms for the...</td>\n",
              "      <td>1/1</td>\n",
              "      <td>643</td>\n",
              "      <td>Individual</td>\n",
              "      <td>Samuel Beckett</td>\n",
              "      <td>1906-04-13</td>\n",
              "      <td>Ireland</td>\n",
              "      <td>Male</td>\n",
              "    </tr>\n",
              "    <tr>\n",
              "      <th>396</th>\n",
              "      <td>1969</td>\n",
              "      <td>Medicine</td>\n",
              "      <td>The Nobel Prize in Physiology or Medicine 1969</td>\n",
              "      <td>\"for their discoveries concerning the replicat...</td>\n",
              "      <td>1/3</td>\n",
              "      <td>391</td>\n",
              "      <td>Individual</td>\n",
              "      <td>Max Delbrück</td>\n",
              "      <td>1906-09-04</td>\n",
              "      <td>Germany</td>\n",
              "      <td>Male</td>\n",
              "    </tr>\n",
              "    <tr>\n",
              "      <th>397</th>\n",
              "      <td>1969</td>\n",
              "      <td>Medicine</td>\n",
              "      <td>The Nobel Prize in Physiology or Medicine 1969</td>\n",
              "      <td>\"for their discoveries concerning the replicat...</td>\n",
              "      <td>1/3</td>\n",
              "      <td>392</td>\n",
              "      <td>Individual</td>\n",
              "      <td>Alfred D. Hershey</td>\n",
              "      <td>1908-12-04</td>\n",
              "      <td>United States of America</td>\n",
              "      <td>Male</td>\n",
              "    </tr>\n",
              "    <tr>\n",
              "      <th>398</th>\n",
              "      <td>1969</td>\n",
              "      <td>Medicine</td>\n",
              "      <td>The Nobel Prize in Physiology or Medicine 1969</td>\n",
              "      <td>\"for their discoveries concerning the replicat...</td>\n",
              "      <td>1/3</td>\n",
              "      <td>393</td>\n",
              "      <td>Individual</td>\n",
              "      <td>Salvador E. Luria</td>\n",
              "      <td>1912-08-13</td>\n",
              "      <td>Italy</td>\n",
              "      <td>Male</td>\n",
              "    </tr>\n",
              "    <tr>\n",
              "      <th>399</th>\n",
              "      <td>1969</td>\n",
              "      <td>Peace</td>\n",
              "      <td>The Nobel Peace Prize 1969</td>\n",
              "      <td>NaN</td>\n",
              "      <td>1/1</td>\n",
              "      <td>527</td>\n",
              "      <td>Organization</td>\n",
              "      <td>International Labour Organization (I.L.O.)</td>\n",
              "      <td>NaN</td>\n",
              "      <td>NaN</td>\n",
              "      <td>NaN</td>\n",
              "    </tr>\n",
              "    <tr>\n",
              "      <th>400</th>\n",
              "      <td>1969</td>\n",
              "      <td>Physics</td>\n",
              "      <td>The Nobel Prize in Physics 1969</td>\n",
              "      <td>\"for his contributions and discoveries concern...</td>\n",
              "      <td>1/1</td>\n",
              "      <td>90</td>\n",
              "      <td>Individual</td>\n",
              "      <td>Murray Gell-Mann</td>\n",
              "      <td>1929-09-15</td>\n",
              "      <td>United States of America</td>\n",
              "      <td>Male</td>\n",
              "    </tr>\n",
              "  </tbody>\n",
              "</table>\n",
              "</div>"
            ],
            "text/plain": [
              "     year    category                                              prize  \\\n",
              "390  1968     Physics                    The Nobel Prize in Physics 1968   \n",
              "391  1969   Chemistry                  The Nobel Prize in Chemistry 1969   \n",
              "392  1969   Chemistry                  The Nobel Prize in Chemistry 1969   \n",
              "393  1969   Economics  The Sveriges Riksbank Prize in Economic Scienc...   \n",
              "394  1969   Economics  The Sveriges Riksbank Prize in Economic Scienc...   \n",
              "395  1969  Literature                 The Nobel Prize in Literature 1969   \n",
              "396  1969    Medicine     The Nobel Prize in Physiology or Medicine 1969   \n",
              "397  1969    Medicine     The Nobel Prize in Physiology or Medicine 1969   \n",
              "398  1969    Medicine     The Nobel Prize in Physiology or Medicine 1969   \n",
              "399  1969       Peace                         The Nobel Peace Prize 1969   \n",
              "400  1969     Physics                    The Nobel Prize in Physics 1969   \n",
              "\n",
              "                                            motivation prize_share  \\\n",
              "390  \"for his decisive contributions to elementary ...         1/1   \n",
              "391  \"for their contributions to the development of...         1/2   \n",
              "392  \"for their contributions to the development of...         1/2   \n",
              "393  \"for having developed and applied dynamic mode...         1/2   \n",
              "394  \"for having developed and applied dynamic mode...         1/2   \n",
              "395  \"for his writing, which - in new forms for the...         1/1   \n",
              "396  \"for their discoveries concerning the replicat...         1/3   \n",
              "397  \"for their discoveries concerning the replicat...         1/3   \n",
              "398  \"for their discoveries concerning the replicat...         1/3   \n",
              "399                                                NaN         1/1   \n",
              "400  \"for his contributions and discoveries concern...         1/1   \n",
              "\n",
              "     laureate_id laureate_type                                   full_name  \\\n",
              "390           89    Individual                         Luis Walter Alvarez   \n",
              "391          237    Individual                          Derek H. R. Barton   \n",
              "392          238    Individual                                  Odd Hassel   \n",
              "393          677    Individual                               Ragnar Frisch   \n",
              "394          678    Individual                               Jan Tinbergen   \n",
              "395          643    Individual                              Samuel Beckett   \n",
              "396          391    Individual                                Max Delbrück   \n",
              "397          392    Individual                           Alfred D. Hershey   \n",
              "398          393    Individual                           Salvador E. Luria   \n",
              "399          527  Organization  International Labour Organization (I.L.O.)   \n",
              "400           90    Individual                            Murray Gell-Mann   \n",
              "\n",
              "     birth_date             birth_country   sex  \n",
              "390  1911-06-13  United States of America  Male  \n",
              "391  1918-09-08            United Kingdom  Male  \n",
              "392  1897-05-17                    Norway  Male  \n",
              "393  1895-03-03                    Norway  Male  \n",
              "394  1903-04-12               Netherlands  Male  \n",
              "395  1906-04-13                   Ireland  Male  \n",
              "396  1906-09-04                   Germany  Male  \n",
              "397  1908-12-04  United States of America  Male  \n",
              "398  1912-08-13                     Italy  Male  \n",
              "399         NaN                       NaN   NaN  \n",
              "400  1929-09-15  United States of America  Male  "
            ]
          },
          "execution_count": 189,
          "metadata": {},
          "output_type": "execute_result"
        }
      ],
      "source": [
        "nobel_df.loc[390:400]"
      ]
    },
    {
      "cell_type": "code",
      "execution_count": null,
      "metadata": {
        "id": "1rgd_tJMfeDe",
        "outputId": "2c7563b4-ddff-45cc-f9e2-d3b9128f71ca"
      },
      "outputs": [
        {
          "data": {
            "image/png": "[encoded data removed]",
            "text/plain": [
              "<Figure size 1296x720 with 1 Axes>"
            ]
          },
          "metadata": {
            "needs_background": "light"
          },
          "output_type": "display_data"
        }
      ],
      "source": [
        "plt.title(\"Decade Wise Distribution of Nobel Prize Awarded\")\n",
        "plt.xlabel('Years')\n",
        "plt.ylabel('No. of Nobel Prize Awarded')\n",
        "plt.hist(nobel_df.year,bins=10,color='green');"
      ]
    },
    {
      "cell_type": "markdown",
      "metadata": {
        "id": "wvcuSdqhfeDf"
      },
      "source": [
        "> **Above Histogram represents the decade wise, number of Nobel prize awarded :**\n",
        ">- From 1910 to 1920 the least number of Nobel prize was awarded while from 2000 to 2010 highest number of Nobel prize\n",
        "was awarded."
      ]
    },
    {
      "cell_type": "code",
      "execution_count": null,
      "metadata": {
        "id": "dt-yfXfZfeDf",
        "outputId": "8e91585f-7151-47f3-ddc8-6774e6e1a0db"
      },
      "outputs": [
        {
          "data": {
            "image/png": "[encoded data removed]",
            "text/plain": [
              "<Figure size 461.15x360 with 1 Axes>"
            ]
          },
          "metadata": {
            "needs_background": "light"
          },
          "output_type": "display_data"
        }
      ],
      "source": [
        "sns.displot(data=nobel_df, kind=\"ecdf\", x=\"year\", hue=\"sex\", rug=True);"
      ]
    },
    {
      "cell_type": "markdown",
      "metadata": {
        "id": "_D4IynAMfeDf"
      },
      "source": [
        "> **The above plot shows the year wise distribution of number of male and female who became the Nobel laureates.**\n",
        ">\n",
        "> In the starting of 1900 male and female were approximately equal in receiving the Nobel prize but later on the male laureates\n",
        "increases tremendously as compared to female laureates."
      ]
    },
    {
      "cell_type": "code",
      "execution_count": null,
      "metadata": {
        "id": "SqL6nZcefeDf",
        "outputId": "738d94f8-05eb-4d8e-a2f2-4a13e3cb4d1f"
      },
      "outputs": [
        {
          "data": {
            "image/png": "[encoded data removed]",
            "text/plain": [
              "<Figure size 1296x720 with 1 Axes>"
            ]
          },
          "metadata": {
            "needs_background": "light"
          },
          "output_type": "display_data"
        }
      ],
      "source": [
        "sns.scatterplot(y='category',x='year',hue='laureate_type',data=nobel_df);"
      ]
    },
    {
      "cell_type": "markdown",
      "metadata": {
        "id": "DKVYUl7qfeDf"
      },
      "source": [
        "> **From the above scatter plot the following conclusions can be made:**\n",
        ">\n",
        "> Only in Peace category, Nobel Prize was given to organizations while in rest of category the Nobel laureates are Individuals.\n",
        "24 Times Nobel Peace Prize was given to the organizations."
      ]
    },
    {
      "cell_type": "code",
      "execution_count": null,
      "metadata": {
        "id": "9HyEZi9bfeDg",
        "outputId": "1d0afc81-9433-4db4-c517-f1e556b58c70"
      },
      "outputs": [
        {
          "data": {
            "image/png": "[encoded data removed]",
            "text/plain": [
              "<Figure size 1296x720 with 1 Axes>"
            ]
          },
          "metadata": {
            "needs_background": "light"
          },
          "output_type": "display_data"
        }
      ],
      "source": [
        "plt.hist(nobel_df.prize_share,color='red');\n",
        "plt.title('Prize Share Distibution')\n",
        "plt.xlabel('Prize With')\n",
        "plt.ylabel('No. Nobel Laureates');"
      ]
    },
    {
      "cell_type": "markdown",
      "metadata": {
        "id": "1LKtZSoIfeDg"
      },
      "source": [
        "> **The Following are the conclusions of the histogram :**\n",
        ">- 1) Approximately 350 times the Nobel Prize was not shared.\n",
        ">- 2) Approximately 300 times the Nobel Prize was shared between 2 individuals.\n",
        ">- 3) 200 times the Nobel Prize was shared between 3 individuals.\n",
        ">- 4) Approximately 50 times Nobel Prize was shared between four Individuals."
      ]
    },
    {
      "cell_type": "code",
      "execution_count": null,
      "metadata": {
        "id": "t3JhI1rEfeDg",
        "outputId": "ab984fcb-2287-4a2a-8467-a04520ad6dcc"
      },
      "outputs": [
        {
          "data": {
            "image/png": "[encoded data removed]",
            "text/plain": [
              "<Figure size 1296x720 with 1 Axes>"
            ]
          },
          "metadata": {
            "needs_background": "light"
          },
          "output_type": "display_data"
        }
      ],
      "source": [
        "matplotlib.rcParams['figure.figsize'] = (18, 10)\n",
        "sns.scatterplot(x='year',y='category',hue='prize_share',marker='^',data=nobel_df);"
      ]
    },
    {
      "cell_type": "markdown",
      "metadata": {
        "id": "G8CLzrexfeDg"
      },
      "source": [
        "> **The following conclusions can be made :**\n",
        ">- The Medicine Category has the highest number of prize shared between Individuals followed by\n",
        "Physics,Chemistry,Economics respectively.\n",
        ">- The Peace category has the least number of prize shared with 4 times only."
      ]
    },
    {
      "cell_type": "markdown",
      "metadata": {
        "id": "UKXk6xvgfeDg"
      },
      "source": [
        "Let us save and upload our work to Jovian before continuing"
      ]
    },
    {
      "cell_type": "code",
      "execution_count": null,
      "metadata": {
        "id": "QWwtdflMfeDg"
      },
      "outputs": [],
      "source": [
        "import jovian"
      ]
    },
    {
      "cell_type": "code",
      "execution_count": null,
      "metadata": {
        "id": "-swCah1QfeDg",
        "outputId": "ce4020bf-9ace-47e3-a143-f53dea0c1a05"
      },
      "outputs": [
        {
          "data": {
            "application/javascript": [
              "window.require && require([\"base/js/namespace\"],function(Jupyter){Jupyter.notebook.save_checkpoint()})"
            ],
            "text/plain": [
              "<IPython.core.display.Javascript object>"
            ]
          },
          "metadata": {},
          "output_type": "display_data"
        },
        {
          "name": "stdout",
          "output_type": "stream",
          "text": [
            "[jovian] Updating notebook \"khanaabidabdal/nobel-prize-insight\" on https://jovian.com\u001b[0m\n",
            "[jovian] Committed successfully! https://jovian.com/khanaabidabdal/nobel-prize-insight\u001b[0m\n"
          ]
        },
        {
          "data": {
            "text/plain": [
              "'https://jovian.com/khanaabidabdal/nobel-prize-insight'"
            ]
          },
          "execution_count": 196,
          "metadata": {},
          "output_type": "execute_result"
        }
      ],
      "source": [
        "jovian.commit()"
      ]
    },
    {
      "cell_type": "markdown",
      "metadata": {
        "id": "rLo56cvbfeDg"
      },
      "source": [
        "## Asking and Answering Questions\n",
        "\n",
        "The core purpose of the data visualization is to find the answer of such question which are not easily to answerable by the\n",
        "humans in less amount of time.\n"
      ]
    },
    {
      "cell_type": "markdown",
      "metadata": {
        "id": "R-E4pYsBfeDg"
      },
      "source": [
        "#### Q1: How many percentage of Nobel Laureates are Female ?"
      ]
    },
    {
      "cell_type": "code",
      "execution_count": null,
      "metadata": {
        "id": "YkPMTdiefeDg",
        "outputId": "6907c5dc-487a-450a-f07f-3f6c2445edfd"
      },
      "outputs": [
        {
          "data": {
            "text/plain": [
              "Male      836\n",
              "Female     49\n",
              "Name: sex, dtype: int64"
            ]
          },
          "execution_count": 197,
          "metadata": {},
          "output_type": "execute_result"
        }
      ],
      "source": [
        "gender_counts=nobel_df.sex.value_counts()\n",
        "gender_counts"
      ]
    },
    {
      "cell_type": "code",
      "execution_count": null,
      "metadata": {
        "id": "Ls7BPdKGfeDh",
        "outputId": "be104831-89f6-474f-dbf4-97fc17a41193"
      },
      "outputs": [
        {
          "data": {
            "image/png": "[encoded data removed]",
            "text/plain": [
              "<Figure size 1296x720 with 1 Axes>"
            ]
          },
          "metadata": {},
          "output_type": "display_data"
        }
      ],
      "source": [
        "plt.title('Percentage of Male & Female Nobel Laureates')\n",
        "plt.pie(gender_counts, labels=gender_counts.index, autopct='%1.1f%%', startangle=0);"
      ]
    },
    {
      "cell_type": "markdown",
      "metadata": {
        "id": "Zz9lPdKOfeDh"
      },
      "source": [
        ">- plt.pie() function is use to draw a pie charts of different values.\n",
        ">- plt.pie() is used to compare percentage wise distribution of data."
      ]
    },
    {
      "cell_type": "markdown",
      "metadata": {
        "id": "Mlqau9S_feDh"
      },
      "source": [
        "#### Q2: The Number of Nobel Laureates in each Category?"
      ]
    },
    {
      "cell_type": "code",
      "execution_count": null,
      "metadata": {
        "id": "bQdcp5B4feDh",
        "outputId": "b2f16561-1959-460f-ff5e-12bb87528f18"
      },
      "outputs": [
        {
          "data": {
            "text/plain": [
              "Medicine      211\n",
              "Physics       204\n",
              "Chemistry     175\n",
              "Peace         130\n",
              "Literature    113\n",
              "Economics      78\n",
              "Name: category, dtype: int64"
            ]
          },
          "execution_count": 199,
          "metadata": {},
          "output_type": "execute_result"
        }
      ],
      "source": [
        "category=nobel_df['category'].value_counts()\n",
        "category"
      ]
    },
    {
      "cell_type": "code",
      "execution_count": null,
      "metadata": {
        "id": "dT8j_KcqfeDh",
        "outputId": "169b0d7f-b850-44f3-f123-e19f667195ad"
      },
      "outputs": [
        {
          "data": {
            "image/png": "[encoded data removed]",
            "text/plain": [
              "<Figure size 1296x720 with 1 Axes>"
            ]
          },
          "metadata": {},
          "output_type": "display_data"
        }
      ],
      "source": [
        "plt.title('Percentage of Male & Female Nobel Laureates')\n",
        "plt.pie(category, labels=category.index, autopct='%1.1f%%', startangle=0);"
      ]
    },
    {
      "cell_type": "markdown",
      "metadata": {
        "id": "FWO_H55VfeDh"
      },
      "source": [
        "> **The above result shows the Number of Nobel Laureates in each category.**\n",
        ">- value_counts() function gives, how many times a specific value is repeated.\n",
        ">- plt.pie() function is use to draw a pie charts of different values.\n",
        ">- pie() function is used to compare percentage wise distribution of data."
      ]
    },
    {
      "cell_type": "markdown",
      "metadata": {
        "id": "87q-tSf9feDh"
      },
      "source": [
        "#### Q3: How many individuals or organizations have won a Nobel Prize?"
      ]
    },
    {
      "cell_type": "code",
      "execution_count": null,
      "metadata": {
        "id": "8D6-pN0-feDh",
        "outputId": "0428e374-91b5-44c5-b5aa-564e71ed59c1"
      },
      "outputs": [
        {
          "data": {
            "text/plain": [
              "904"
            ]
          },
          "execution_count": 201,
          "metadata": {},
          "output_type": "execute_result"
        }
      ],
      "source": [
        "nobel_df.full_name.nunique()"
      ]
    },
    {
      "cell_type": "markdown",
      "metadata": {
        "id": "rrWkzHOyfeDh"
      },
      "source": [
        "There are total 904 Individuals or organization who have won a Nobel Prize.\n",
        "About nunique() : This function gives no. of unique values in a column of data frame."
      ]
    },
    {
      "cell_type": "markdown",
      "metadata": {
        "id": "4TAf2yVtfeDh"
      },
      "source": [
        "#### Q4: Which are the top 10 countries with highest number of Nobel Laurreates ?"
      ]
    },
    {
      "cell_type": "code",
      "execution_count": null,
      "metadata": {
        "id": "OOL6y38AfeDi"
      },
      "outputs": [],
      "source": [
        "top_countries=nobel_df.birth_country.value_counts().head(10)"
      ]
    },
    {
      "cell_type": "code",
      "execution_count": null,
      "metadata": {
        "id": "nPhT7xoUfeDi",
        "outputId": "64e0e2a3-cf73-441f-bd29-92e4f232e1af"
      },
      "outputs": [
        {
          "data": {
            "text/plain": [
              "United States of America    259\n",
              "United Kingdom               85\n",
              "Germany                      61\n",
              "France                       51\n",
              "Sweden                       29\n",
              "Japan                        24\n",
              "Canada                       18\n",
              "Netherlands                  18\n",
              "Italy                        17\n",
              "Russia                       17\n",
              "Name: birth_country, dtype: int64"
            ]
          },
          "execution_count": 203,
          "metadata": {},
          "output_type": "execute_result"
        }
      ],
      "source": [
        "top_countries"
      ]
    },
    {
      "cell_type": "code",
      "execution_count": null,
      "metadata": {
        "id": "ZUdp8jnefeDi",
        "outputId": "aefca762-73de-48f7-d201-82a6b521a3b6"
      },
      "outputs": [
        {
          "data": {
            "image/png": "[encoded data removed]",
            "text/plain": [
              "<Figure size 1296x720 with 1 Axes>"
            ]
          },
          "metadata": {
            "needs_background": "light"
          },
          "output_type": "display_data"
        }
      ],
      "source": [
        "plt.title('Top 10 Countries with Highest Nobel Laureates')\n",
        "plt.xlabel('Number of Nobel Laureates')\n",
        "plt.ylabel('Name of Country')\n",
        "\n",
        "sns.barplot(x=top_countries,y=top_countries.index);"
      ]
    },
    {
      "cell_type": "markdown",
      "metadata": {
        "id": "0yxOaP-LfeDi"
      },
      "source": [
        ">- sns.barplot() is used to show a bar plot.\n",
        ">- It is generally use  to compare the values."
      ]
    },
    {
      "cell_type": "markdown",
      "metadata": {
        "id": "sJg5FQOcfeDi"
      },
      "source": [
        "#### Q5: Top 10 Who won the Nobel Prize more than once ?"
      ]
    },
    {
      "cell_type": "code",
      "execution_count": null,
      "metadata": {
        "id": "qw0lrzzafeDi",
        "outputId": "44b387ab-2c9b-49f5-d0e6-ecdbb2e8e019"
      },
      "outputs": [
        {
          "data": {
            "text/plain": [
              "Comité international de la Croix Rouge (International Committee of the Red Cross)    3\n",
              "Office of the United Nations High Commissioner for Refugees (UNHCR)                  2\n",
              "John Bardeen                                                                         2\n",
              "Linus Carl Pauling                                                                   2\n",
              "Frederick Sanger                                                                     2\n",
              "Marie Curie, née Sklodowska                                                          2\n",
              "Jacobus Henricus van 't Hoff                                                         1\n",
              "Ronald H. Coase                                                                      1\n",
              "Octavio Paz                                                                          1\n",
              "Joseph E. Murray                                                                     1\n",
              "Name: full_name, dtype: int64"
            ]
          },
          "execution_count": 205,
          "metadata": {},
          "output_type": "execute_result"
        }
      ],
      "source": [
        "person=nobel_df.full_name.value_counts().head(10)\n",
        "person"
      ]
    },
    {
      "cell_type": "code",
      "execution_count": null,
      "metadata": {
        "id": "6D5HvPWNfeDi",
        "outputId": "af3c7118-7fb6-44fa-ba85-82ea1af5bc59"
      },
      "outputs": [
        {
          "data": {
            "image/png": "[encoded data removed]",
            "text/plain": [
              "<Figure size 1296x720 with 1 Axes>"
            ]
          },
          "metadata": {
            "needs_background": "light"
          },
          "output_type": "display_data"
        }
      ],
      "source": [
        "sns.barplot(x=person,y=person.index);"
      ]
    },
    {
      "cell_type": "markdown",
      "metadata": {
        "id": "hVvl4zMyfeDi"
      },
      "source": [
        ">- sns.barplot() is used to show a bar plot.\n",
        ">- It is generally use to compare the values."
      ]
    },
    {
      "cell_type": "markdown",
      "metadata": {
        "id": "Er7ZHPkJfeDi"
      },
      "source": [
        "Let us save and upload our work to Jovian before continuing."
      ]
    },
    {
      "cell_type": "code",
      "execution_count": null,
      "metadata": {
        "id": "LT5K5EbVfeDi"
      },
      "outputs": [],
      "source": [
        "import jovian"
      ]
    },
    {
      "cell_type": "code",
      "execution_count": null,
      "metadata": {
        "id": "DiRXeCZgfeDi",
        "outputId": "f456582d-0580-4722-e1cd-699d10e62a4d"
      },
      "outputs": [
        {
          "data": {
            "application/javascript": [
              "window.require && require([\"base/js/namespace\"],function(Jupyter){Jupyter.notebook.save_checkpoint()})"
            ],
            "text/plain": [
              "<IPython.core.display.Javascript object>"
            ]
          },
          "metadata": {},
          "output_type": "display_data"
        },
        {
          "name": "stdout",
          "output_type": "stream",
          "text": [
            "[jovian] Updating notebook \"khanaabidabdal/nobel-prize-insight\" on https://jovian.com\u001b[0m\n",
            "[jovian] Committed successfully! https://jovian.com/khanaabidabdal/nobel-prize-insight\u001b[0m\n"
          ]
        },
        {
          "data": {
            "text/plain": [
              "'https://jovian.com/khanaabidabdal/nobel-prize-insight'"
            ]
          },
          "execution_count": 208,
          "metadata": {},
          "output_type": "execute_result"
        }
      ],
      "source": [
        "jovian.commit()"
      ]
    },
    {
      "cell_type": "markdown",
      "metadata": {
        "id": "svAmpf1kfeDi"
      },
      "source": [
        "## Inferences and Conclusion\n",
        "\n",
        "> The Following conclusions can be made :\n",
        ">- Economics field was added in Nobel Prize category after 1965. Therefore, it has least number of Nobel Laureates.\n",
        ">- There are only 5.5% Female Laureates.\n",
        ">- The Medicine Category has largest number of Nobel Laureates because in medicine category large number of times Nobel\n",
        "Prize is shared between the Individuals.\n",
        ">- In Literature only 4 times Nobel Prize is shared between the individuals.\n",
        ">- Red cross society has the largest number of Nobel Prize with value equals to 3.\n",
        ">- USA has the largest number of Nobel laureates followed by UK,Germany,France.\n",
        ">- There are 904 different individuals who won a Nobel Prize.\n",
        ">- Only in Peace category Nobel Prize is given to organizations.\n",
        ">- During the first world war and second world war Nobel Prize was not awarded.\n",
        ">- Before and after period of wars, the Nobel Peace Prize shows the decline because of wars and conflicts.(Other prizes was given except peace prize)   \n"
      ]
    },
    {
      "cell_type": "code",
      "execution_count": null,
      "metadata": {
        "id": "1TEBKEnpfeDj"
      },
      "outputs": [],
      "source": [
        "import jovian"
      ]
    },
    {
      "cell_type": "code",
      "execution_count": null,
      "metadata": {
        "id": "-bCTB7olfeDj",
        "outputId": "cea5d807-b9bd-4bc5-be89-1580e45dd775"
      },
      "outputs": [
        {
          "data": {
            "application/javascript": [
              "window.require && require([\"base/js/namespace\"],function(Jupyter){Jupyter.notebook.save_checkpoint()})"
            ],
            "text/plain": [
              "<IPython.core.display.Javascript object>"
            ]
          },
          "metadata": {},
          "output_type": "display_data"
        },
        {
          "name": "stdout",
          "output_type": "stream",
          "text": [
            "[jovian] Updating notebook \"khanaabidabdal/nobel-prize-insight\" on https://jovian.com\u001b[0m\n",
            "[jovian] Committed successfully! https://jovian.com/khanaabidabdal/nobel-prize-insight\u001b[0m\n"
          ]
        },
        {
          "data": {
            "text/plain": [
              "'https://jovian.com/khanaabidabdal/nobel-prize-insight'"
            ]
          },
          "execution_count": 210,
          "metadata": {},
          "output_type": "execute_result"
        }
      ],
      "source": [
        "jovian.commit()"
      ]
    },
    {
      "cell_type": "markdown",
      "metadata": {
        "id": "NooEjbhVfeDj"
      },
      "source": [
        "## References and Future Work\n",
        "\n",
        "> The following are the future ideas:\n",
        ">- You can find the which continents has the highest number of Nobel Laureates.\n",
        ">- You can find the persons who has won a Nobel prize in two different category like Marie Curie.\n",
        ">- You can also find Oldest and Youngest Nobel Laureates.\n",
        ">- You can also defined function to find the whether your favorite physicist,writer,economist,etc has won a Nobel Prize or Not.\n",
        ">- By importing top universities country wise, you can compare the Number of Nobel laureates and university rank.\n",
        ">-"
      ]
    },
    {
      "cell_type": "code",
      "execution_count": null,
      "metadata": {
        "id": "lPMi3DHrfeDj"
      },
      "outputs": [],
      "source": [
        "import jovian"
      ]
    },
    {
      "cell_type": "code",
      "execution_count": null,
      "metadata": {
        "scrolled": true,
        "id": "FtdpNUSNfeDj",
        "outputId": "6240569d-09b1-43dc-cdda-1cd62dfe61bb"
      },
      "outputs": [
        {
          "data": {
            "application/javascript": [
              "window.require && require([\"base/js/namespace\"],function(Jupyter){Jupyter.notebook.save_checkpoint()})"
            ],
            "text/plain": [
              "<IPython.core.display.Javascript object>"
            ]
          },
          "metadata": {},
          "output_type": "display_data"
        },
        {
          "name": "stdout",
          "output_type": "stream",
          "text": [
            "[jovian] Updating notebook \"khanaabidabdal/nobel-prize-insight\" on https://jovian.com\u001b[0m\n",
            "[jovian] Committed successfully! https://jovian.com/khanaabidabdal/nobel-prize-insight\u001b[0m\n"
          ]
        },
        {
          "data": {
            "text/plain": [
              "'https://jovian.com/khanaabidabdal/nobel-prize-insight'"
            ]
          },
          "execution_count": 216,
          "metadata": {},
          "output_type": "execute_result"
        }
      ],
      "source": [
        "jovian.commit()"
      ]
    },
    {
      "cell_type": "code",
      "execution_count": null,
      "metadata": {
        "id": "YAu94bxCfeDj"
      },
      "outputs": [],
      "source": []
    },
    {
      "cell_type": "code",
      "execution_count": null,
      "metadata": {
        "id": "hyX2vG3ufeDj"
      },
      "outputs": [],
      "source": []
    }
  ],
  "metadata": {
    "kernelspec": {
      "display_name": "Python 3 (ipykernel)",
      "language": "python",
      "name": "python3"
    },
    "language_info": {
      "codemirror_mode": {
        "name": "ipython",
        "version": 3
      },
      "file_extension": ".py",
      "mimetype": "text/x-python",
      "name": "python",
      "nbconvert_exporter": "python",
      "pygments_lexer": "ipython3",
      "version": "3.9.7"
    },
    "colab": {
      "provenance": []
    }
  },
  "nbformat": 4,
  "nbformat_minor": 0
}